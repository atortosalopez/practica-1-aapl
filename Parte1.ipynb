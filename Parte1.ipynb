{
  "cells": [
    {
      "cell_type": "markdown",
      "metadata": {
        "id": "xfBTWmAateNC"
      },
      "source": [
        "# Práctica 5: Aprendizaje supervisado\n",
        "\n",
        "Objetivos de la práctica:\n",
        "* Conocer cómo funcionan los algoritmos de clasificación de la librería sklearn.\n",
        "* Estudiar un problema de clasificación binaria.\n",
        "* Estudiar un problema de clasificación múltiple\n",
        "\n"
      ]
    },
    {
      "cell_type": "markdown",
      "metadata": {
        "id": "qdFcIx_FteNI"
      },
      "source": [
        "## Clasificación binaria\n",
        "\n",
        "Para el problema de la clasificación binaria vamos a utilizar el dataset pima-indians-diabetes.csv. Este dataset es utilizado de manera habitual en aprendizaje automático. El dataset describe datos médicos de pacientes y si tuvieron diabetes en los 5 años siguientes. En concreto cada fila del dataset representa un\n",
        "paciente. Cada fila consta de 9 valores numéricos separados por comas, los 8 primeros valores son los descriptores que dan información sobre:\n",
        "1. Number of times pregnant\n",
        "2. Plasma glucose concentration a 2 hours in an oral glucose tolerance test\n",
        "3. Diastolic blood pressure (mm Hg)\n",
        "4. Triceps skin fold thickness (mm)\n",
        "5. 2-Hour serum insulin (mu U/ml)\n",
        "6. Body mass index (weight in kg/(height in m)^2)\n",
        "7. Diabetes pedigree function\n",
        "8. Age (years)\n",
        "\n",
        "El ultimo valor de la fila es siempre o bien un 1 o un 0 dependiendo de si el\n",
        "paciente tuvo diabetes o no."
      ]
    },
    {
      "cell_type": "markdown",
      "metadata": {
        "id": "UTN4L3UkteNL"
      },
      "source": [
        "### Paso 0: Carga de datos"
      ]
    },
    {
      "cell_type": "markdown",
      "metadata": {
        "id": "31anenRvt_1a"
      },
      "source": [
        "Comenzamos descargando el dataset."
      ]
    },
    {
      "cell_type": "code",
      "execution_count": 1,
      "metadata": {
        "id": "QS2rGPQYuB8T",
        "colab": {
          "base_uri": "https://localhost:8080/"
        },
        "outputId": "414775d5-e737-45f6-e4ea-c1e5eaf44e20"
      },
      "outputs": [
        {
          "output_type": "stream",
          "name": "stdout",
          "text": [
            "--2024-11-20 12:04:58--  https://raw.githubusercontent.com/IA1819/Datasets/master/pima-indians-diabetes.csv\n",
            "Resolving raw.githubusercontent.com (raw.githubusercontent.com)... 185.199.109.133, 185.199.111.133, 185.199.108.133, ...\n",
            "Connecting to raw.githubusercontent.com (raw.githubusercontent.com)|185.199.109.133|:443... connected.\n",
            "HTTP request sent, awaiting response... 200 OK\n",
            "Length: 23279 (23K) [text/plain]\n",
            "Saving to: ‘pima-indians-diabetes.csv’\n",
            "\n",
            "\r          pima-indi   0%[                    ]       0  --.-KB/s               \rpima-indians-diabet 100%[===================>]  22.73K  --.-KB/s    in 0.001s  \n",
            "\n",
            "2024-11-20 12:04:58 (34.5 MB/s) - ‘pima-indians-diabetes.csv’ saved [23279/23279]\n",
            "\n"
          ]
        }
      ],
      "source": [
        "!wget https://raw.githubusercontent.com/IA1819/Datasets/master/pima-indians-diabetes.csv -O pima-indians-diabetes.csv"
      ]
    },
    {
      "cell_type": "markdown",
      "metadata": {
        "id": "L8q9VRBoteNR"
      },
      "source": [
        "Cargamos los datos del fichero pima-indians-diabetes.csv utilizando la librería pandas y  almacenamos los vectores de descriptores en una variable X y las etiquetas en una variable Y. Notar que como el dataset no contiene una cabecera estamos usando el atributo `header=None`."
      ]
    },
    {
      "cell_type": "code",
      "execution_count": 2,
      "metadata": {
        "id": "GlBgSJFGteNT"
      },
      "outputs": [],
      "source": [
        "import pandas as pd\n",
        "df = pd.read_csv('pima-indians-diabetes.csv',header=None)\n",
        "X =  df.values[:,:-1]\n",
        "Y =  df.values[:,-1]"
      ]
    },
    {
      "cell_type": "markdown",
      "metadata": {
        "id": "W6c-J3eHteNb"
      },
      "source": [
        "En esta práctica no hay tests, pero al ejecutar la siguiente celda deberías obtener los siguientes valores para las distintas variables.\n",
        "\n",
        "|expresión|resultado|\n",
        "|---|---|\n",
        "|Longitud X|768|\n",
        "|X[4]|[  0.    137.     40.     35.    168.     43.1     2.288  33.   ]|\n",
        "|Y[11]|1.0|\n",
        "|Y[50]|0.0|"
      ]
    },
    {
      "cell_type": "code",
      "execution_count": 3,
      "metadata": {
        "id": "0ylve7zCteNe",
        "colab": {
          "base_uri": "https://localhost:8080/"
        },
        "outputId": "af341c55-a530-46e6-9efd-a6fbbea77755"
      },
      "outputs": [
        {
          "output_type": "stream",
          "name": "stdout",
          "text": [
            "Longitud X:\n",
            "768\n",
            "X[4]:\n",
            "[  0.    137.     40.     35.    168.     43.1     2.288  33.   ]\n",
            "Y[11]:\n",
            "1.0\n",
            "Y[50]:\n",
            "0.0\n"
          ]
        }
      ],
      "source": [
        "print(\"Longitud X:\")\n",
        "print(len(X))\n",
        "print(\"X[4]:\")\n",
        "print(X[4])\n",
        "print(\"Y[11]:\")\n",
        "print(Y[11])\n",
        "print(\"Y[50]:\")\n",
        "print(Y[50])"
      ]
    },
    {
      "cell_type": "markdown",
      "metadata": {
        "collapsed": true,
        "id": "7ys2FJ_eteNk"
      },
      "source": [
        "### Paso 1: Partición de conjunto de entrenamiento y de test\n",
        "\n",
        "Como vimos en clase es muy importante separar el conjunto de instancias en dos grupos: el conjunto de entrenamiento y el conjunto de test. Para ello, podemos utilizar la función ```train_test_split``` de la librería ```sklearn```."
      ]
    },
    {
      "cell_type": "code",
      "execution_count": 4,
      "metadata": {
        "id": "SPIOFCehteNm"
      },
      "outputs": [],
      "source": [
        "from sklearn.model_selection import train_test_split"
      ]
    },
    {
      "cell_type": "markdown",
      "metadata": {
        "id": "ou804FWgteNt"
      },
      "source": [
        "A la función train_test_split le vamos a pasar 4 parámetros:\n",
        "\n",
        " - las instancias de nuestro dataset (sin etiqueta), es decir X,\n",
        " - las etiquetas (es decir Y),\n",
        " - el porcentage del dataset que se utilizará para el conjunto de test\n",
        "   (en este caso 0.25).\n",
        " - el estado aleatorio: un número para poder reproducir los resultados.\n",
        "\n",
        "El resultado devuelto por la función es una tupla de 4 elementos que\n",
        "contiene el conjunto de entrenamiento, el conjunto de test, las etiquetas\n",
        "del conjunto de entrenamiento y las etiquetas del conjunto de test."
      ]
    },
    {
      "cell_type": "code",
      "execution_count": 5,
      "metadata": {
        "id": "W1g2G5vateNw"
      },
      "outputs": [],
      "source": [
        "(trainData, testData, trainLabels, testLabels) = train_test_split(X,Y,test_size=0.25, random_state=42)"
      ]
    },
    {
      "cell_type": "markdown",
      "metadata": {
        "id": "9MZH-eq8teN3"
      },
      "source": [
        "##### Ejercicio\n",
        "\n",
        "Modifica a continuación la llamada anterior a la función train_test_split para que el conjunto de testing sea un 10% del total utilizando el mismo random_state que antes."
      ]
    },
    {
      "cell_type": "code",
      "execution_count": 6,
      "metadata": {
        "id": "AF7uQ0PMteN5"
      },
      "outputs": [],
      "source": [
        "(trainData, testData, trainLabels, testLabels) = train_test_split(X, Y, test_size=0.1, random_state=42)\n"
      ]
    },
    {
      "cell_type": "markdown",
      "metadata": {
        "id": "nFlSAXZEteN-"
      },
      "source": [
        "Si has hecho correctamente la división deberías obtener los siguientes resultados al evaluar la siguiente celda.\n",
        "\n",
        "|Expresión|Resultado|\n",
        "|---|---|\n",
        "|trainLabels[9]|1|\n",
        "|testLabels[26]| 0|\n",
        "|trainData[21]|[   0   ,  177   ,  60  ,  29   ,    222  ,   34  ,   1,   21   ]|\n",
        "|testData[11]|[ 7.00e+00, 1.79e+02 ,9.50e+01, 3.10e+01 ,0.00e+00 ,3.42e+01 ,1.64e-01 ,6.00e+01]|"
      ]
    },
    {
      "cell_type": "code",
      "execution_count": 7,
      "metadata": {
        "id": "kzL2AY_GteOB",
        "colab": {
          "base_uri": "https://localhost:8080/"
        },
        "outputId": "402ca323-7269-474f-cad6-98ed25f00abb"
      },
      "outputs": [
        {
          "output_type": "stream",
          "name": "stdout",
          "text": [
            "trainLabels[9]\n",
            "1.0\n",
            "testLabels[26]\n",
            "0.0\n",
            "trainData[21]\n",
            "[  0 177  60  29 222  34   1  21]\n",
            "testData[11]\n",
            "[7.00e+00 1.79e+02 9.50e+01 3.10e+01 0.00e+00 3.42e+01 1.64e-01 6.00e+01]\n"
          ]
        }
      ],
      "source": [
        "print(\"trainLabels[9]\")\n",
        "print(trainLabels[9])\n",
        "print(\"testLabels[26]\")\n",
        "print(testLabels[26])\n",
        "print(\"trainData[21]\")\n",
        "print(trainData[21].astype(\"uint8\"))\n",
        "print(\"testData[11]\")\n",
        "print(testData[11])"
      ]
    },
    {
      "cell_type": "markdown",
      "metadata": {
        "id": "VTiVEywnteOI"
      },
      "source": [
        "### Paso 2: Entrenando distintos algoritmos\n",
        "\n",
        "A continuación veremos como entrenar los algoritmos de clasificación vistos\n",
        "en clase. La ventaja de los clasificadores implementados en ```sklearn``` es que\n",
        "todos ellos están implementados como clases que heredan de una clase\n",
        "llamada ```ClassifierMixin```, por lo que el proceso para entrenarlos y probarlos\n",
        "va a ser siempre el mismo. Además tiene la ventaja de que podremos cambiar\n",
        "de clasificador de manera muy sencilla.\n",
        "\n",
        "Como veremos el proceso para usar los clasificadores va a constar de los\n",
        "siguientes pasos: 1) Crear una instancia del clasificador que vamos a utilizar\n",
        "(este paso depende claramente del clasificador), 2) entrenarlo mediante el\n",
        "método ```fit``` de la clase ```ClassifierMixin```, y 3) hacer predicciones mediante\n",
        "el método ```predict``` de la clase."
      ]
    },
    {
      "cell_type": "markdown",
      "metadata": {
        "id": "C85CcRO0teON"
      },
      "source": [
        "#### KNN\n",
        "\n",
        "Empezamos por el clasificador más sencillo de todos, el KNN. Lo primero que hacemos es importar el clasificador"
      ]
    },
    {
      "cell_type": "code",
      "execution_count": 8,
      "metadata": {
        "collapsed": true,
        "id": "03RG9bgGteOP"
      },
      "outputs": [],
      "source": [
        "from sklearn.neighbors import KNeighborsClassifier"
      ]
    },
    {
      "cell_type": "markdown",
      "metadata": {
        "id": "c_nxj0nvteOT"
      },
      "source": [
        "Construimos una instancia del clasificador utilizando 5 vecinos"
      ]
    },
    {
      "cell_type": "code",
      "execution_count": 9,
      "metadata": {
        "collapsed": true,
        "id": "i82y8aulteOV"
      },
      "outputs": [],
      "source": [
        "modelKNN = KNeighborsClassifier(n_neighbors=5)"
      ]
    },
    {
      "cell_type": "markdown",
      "metadata": {
        "id": "xWnmUuY-teOb"
      },
      "source": [
        "Entrenamos el clasificador pasándole el conjunto de entrenamiento y las etiquetas."
      ]
    },
    {
      "cell_type": "code",
      "execution_count": 10,
      "metadata": {
        "collapsed": true,
        "id": "wdHu0FLUteOd",
        "colab": {
          "base_uri": "https://localhost:8080/",
          "height": 80
        },
        "outputId": "de276fce-fd1b-420b-88d8-d434bcad0b07"
      },
      "outputs": [
        {
          "output_type": "execute_result",
          "data": {
            "text/plain": [
              "KNeighborsClassifier()"
            ],
            "text/html": [
              "<style>#sk-container-id-1 {\n",
              "  /* Definition of color scheme common for light and dark mode */\n",
              "  --sklearn-color-text: black;\n",
              "  --sklearn-color-line: gray;\n",
              "  /* Definition of color scheme for unfitted estimators */\n",
              "  --sklearn-color-unfitted-level-0: #fff5e6;\n",
              "  --sklearn-color-unfitted-level-1: #f6e4d2;\n",
              "  --sklearn-color-unfitted-level-2: #ffe0b3;\n",
              "  --sklearn-color-unfitted-level-3: chocolate;\n",
              "  /* Definition of color scheme for fitted estimators */\n",
              "  --sklearn-color-fitted-level-0: #f0f8ff;\n",
              "  --sklearn-color-fitted-level-1: #d4ebff;\n",
              "  --sklearn-color-fitted-level-2: #b3dbfd;\n",
              "  --sklearn-color-fitted-level-3: cornflowerblue;\n",
              "\n",
              "  /* Specific color for light theme */\n",
              "  --sklearn-color-text-on-default-background: var(--sg-text-color, var(--theme-code-foreground, var(--jp-content-font-color1, black)));\n",
              "  --sklearn-color-background: var(--sg-background-color, var(--theme-background, var(--jp-layout-color0, white)));\n",
              "  --sklearn-color-border-box: var(--sg-text-color, var(--theme-code-foreground, var(--jp-content-font-color1, black)));\n",
              "  --sklearn-color-icon: #696969;\n",
              "\n",
              "  @media (prefers-color-scheme: dark) {\n",
              "    /* Redefinition of color scheme for dark theme */\n",
              "    --sklearn-color-text-on-default-background: var(--sg-text-color, var(--theme-code-foreground, var(--jp-content-font-color1, white)));\n",
              "    --sklearn-color-background: var(--sg-background-color, var(--theme-background, var(--jp-layout-color0, #111)));\n",
              "    --sklearn-color-border-box: var(--sg-text-color, var(--theme-code-foreground, var(--jp-content-font-color1, white)));\n",
              "    --sklearn-color-icon: #878787;\n",
              "  }\n",
              "}\n",
              "\n",
              "#sk-container-id-1 {\n",
              "  color: var(--sklearn-color-text);\n",
              "}\n",
              "\n",
              "#sk-container-id-1 pre {\n",
              "  padding: 0;\n",
              "}\n",
              "\n",
              "#sk-container-id-1 input.sk-hidden--visually {\n",
              "  border: 0;\n",
              "  clip: rect(1px 1px 1px 1px);\n",
              "  clip: rect(1px, 1px, 1px, 1px);\n",
              "  height: 1px;\n",
              "  margin: -1px;\n",
              "  overflow: hidden;\n",
              "  padding: 0;\n",
              "  position: absolute;\n",
              "  width: 1px;\n",
              "}\n",
              "\n",
              "#sk-container-id-1 div.sk-dashed-wrapped {\n",
              "  border: 1px dashed var(--sklearn-color-line);\n",
              "  margin: 0 0.4em 0.5em 0.4em;\n",
              "  box-sizing: border-box;\n",
              "  padding-bottom: 0.4em;\n",
              "  background-color: var(--sklearn-color-background);\n",
              "}\n",
              "\n",
              "#sk-container-id-1 div.sk-container {\n",
              "  /* jupyter's `normalize.less` sets `[hidden] { display: none; }`\n",
              "     but bootstrap.min.css set `[hidden] { display: none !important; }`\n",
              "     so we also need the `!important` here to be able to override the\n",
              "     default hidden behavior on the sphinx rendered scikit-learn.org.\n",
              "     See: https://github.com/scikit-learn/scikit-learn/issues/21755 */\n",
              "  display: inline-block !important;\n",
              "  position: relative;\n",
              "}\n",
              "\n",
              "#sk-container-id-1 div.sk-text-repr-fallback {\n",
              "  display: none;\n",
              "}\n",
              "\n",
              "div.sk-parallel-item,\n",
              "div.sk-serial,\n",
              "div.sk-item {\n",
              "  /* draw centered vertical line to link estimators */\n",
              "  background-image: linear-gradient(var(--sklearn-color-text-on-default-background), var(--sklearn-color-text-on-default-background));\n",
              "  background-size: 2px 100%;\n",
              "  background-repeat: no-repeat;\n",
              "  background-position: center center;\n",
              "}\n",
              "\n",
              "/* Parallel-specific style estimator block */\n",
              "\n",
              "#sk-container-id-1 div.sk-parallel-item::after {\n",
              "  content: \"\";\n",
              "  width: 100%;\n",
              "  border-bottom: 2px solid var(--sklearn-color-text-on-default-background);\n",
              "  flex-grow: 1;\n",
              "}\n",
              "\n",
              "#sk-container-id-1 div.sk-parallel {\n",
              "  display: flex;\n",
              "  align-items: stretch;\n",
              "  justify-content: center;\n",
              "  background-color: var(--sklearn-color-background);\n",
              "  position: relative;\n",
              "}\n",
              "\n",
              "#sk-container-id-1 div.sk-parallel-item {\n",
              "  display: flex;\n",
              "  flex-direction: column;\n",
              "}\n",
              "\n",
              "#sk-container-id-1 div.sk-parallel-item:first-child::after {\n",
              "  align-self: flex-end;\n",
              "  width: 50%;\n",
              "}\n",
              "\n",
              "#sk-container-id-1 div.sk-parallel-item:last-child::after {\n",
              "  align-self: flex-start;\n",
              "  width: 50%;\n",
              "}\n",
              "\n",
              "#sk-container-id-1 div.sk-parallel-item:only-child::after {\n",
              "  width: 0;\n",
              "}\n",
              "\n",
              "/* Serial-specific style estimator block */\n",
              "\n",
              "#sk-container-id-1 div.sk-serial {\n",
              "  display: flex;\n",
              "  flex-direction: column;\n",
              "  align-items: center;\n",
              "  background-color: var(--sklearn-color-background);\n",
              "  padding-right: 1em;\n",
              "  padding-left: 1em;\n",
              "}\n",
              "\n",
              "\n",
              "/* Toggleable style: style used for estimator/Pipeline/ColumnTransformer box that is\n",
              "clickable and can be expanded/collapsed.\n",
              "- Pipeline and ColumnTransformer use this feature and define the default style\n",
              "- Estimators will overwrite some part of the style using the `sk-estimator` class\n",
              "*/\n",
              "\n",
              "/* Pipeline and ColumnTransformer style (default) */\n",
              "\n",
              "#sk-container-id-1 div.sk-toggleable {\n",
              "  /* Default theme specific background. It is overwritten whether we have a\n",
              "  specific estimator or a Pipeline/ColumnTransformer */\n",
              "  background-color: var(--sklearn-color-background);\n",
              "}\n",
              "\n",
              "/* Toggleable label */\n",
              "#sk-container-id-1 label.sk-toggleable__label {\n",
              "  cursor: pointer;\n",
              "  display: block;\n",
              "  width: 100%;\n",
              "  margin-bottom: 0;\n",
              "  padding: 0.5em;\n",
              "  box-sizing: border-box;\n",
              "  text-align: center;\n",
              "}\n",
              "\n",
              "#sk-container-id-1 label.sk-toggleable__label-arrow:before {\n",
              "  /* Arrow on the left of the label */\n",
              "  content: \"▸\";\n",
              "  float: left;\n",
              "  margin-right: 0.25em;\n",
              "  color: var(--sklearn-color-icon);\n",
              "}\n",
              "\n",
              "#sk-container-id-1 label.sk-toggleable__label-arrow:hover:before {\n",
              "  color: var(--sklearn-color-text);\n",
              "}\n",
              "\n",
              "/* Toggleable content - dropdown */\n",
              "\n",
              "#sk-container-id-1 div.sk-toggleable__content {\n",
              "  max-height: 0;\n",
              "  max-width: 0;\n",
              "  overflow: hidden;\n",
              "  text-align: left;\n",
              "  /* unfitted */\n",
              "  background-color: var(--sklearn-color-unfitted-level-0);\n",
              "}\n",
              "\n",
              "#sk-container-id-1 div.sk-toggleable__content.fitted {\n",
              "  /* fitted */\n",
              "  background-color: var(--sklearn-color-fitted-level-0);\n",
              "}\n",
              "\n",
              "#sk-container-id-1 div.sk-toggleable__content pre {\n",
              "  margin: 0.2em;\n",
              "  border-radius: 0.25em;\n",
              "  color: var(--sklearn-color-text);\n",
              "  /* unfitted */\n",
              "  background-color: var(--sklearn-color-unfitted-level-0);\n",
              "}\n",
              "\n",
              "#sk-container-id-1 div.sk-toggleable__content.fitted pre {\n",
              "  /* unfitted */\n",
              "  background-color: var(--sklearn-color-fitted-level-0);\n",
              "}\n",
              "\n",
              "#sk-container-id-1 input.sk-toggleable__control:checked~div.sk-toggleable__content {\n",
              "  /* Expand drop-down */\n",
              "  max-height: 200px;\n",
              "  max-width: 100%;\n",
              "  overflow: auto;\n",
              "}\n",
              "\n",
              "#sk-container-id-1 input.sk-toggleable__control:checked~label.sk-toggleable__label-arrow:before {\n",
              "  content: \"▾\";\n",
              "}\n",
              "\n",
              "/* Pipeline/ColumnTransformer-specific style */\n",
              "\n",
              "#sk-container-id-1 div.sk-label input.sk-toggleable__control:checked~label.sk-toggleable__label {\n",
              "  color: var(--sklearn-color-text);\n",
              "  background-color: var(--sklearn-color-unfitted-level-2);\n",
              "}\n",
              "\n",
              "#sk-container-id-1 div.sk-label.fitted input.sk-toggleable__control:checked~label.sk-toggleable__label {\n",
              "  background-color: var(--sklearn-color-fitted-level-2);\n",
              "}\n",
              "\n",
              "/* Estimator-specific style */\n",
              "\n",
              "/* Colorize estimator box */\n",
              "#sk-container-id-1 div.sk-estimator input.sk-toggleable__control:checked~label.sk-toggleable__label {\n",
              "  /* unfitted */\n",
              "  background-color: var(--sklearn-color-unfitted-level-2);\n",
              "}\n",
              "\n",
              "#sk-container-id-1 div.sk-estimator.fitted input.sk-toggleable__control:checked~label.sk-toggleable__label {\n",
              "  /* fitted */\n",
              "  background-color: var(--sklearn-color-fitted-level-2);\n",
              "}\n",
              "\n",
              "#sk-container-id-1 div.sk-label label.sk-toggleable__label,\n",
              "#sk-container-id-1 div.sk-label label {\n",
              "  /* The background is the default theme color */\n",
              "  color: var(--sklearn-color-text-on-default-background);\n",
              "}\n",
              "\n",
              "/* On hover, darken the color of the background */\n",
              "#sk-container-id-1 div.sk-label:hover label.sk-toggleable__label {\n",
              "  color: var(--sklearn-color-text);\n",
              "  background-color: var(--sklearn-color-unfitted-level-2);\n",
              "}\n",
              "\n",
              "/* Label box, darken color on hover, fitted */\n",
              "#sk-container-id-1 div.sk-label.fitted:hover label.sk-toggleable__label.fitted {\n",
              "  color: var(--sklearn-color-text);\n",
              "  background-color: var(--sklearn-color-fitted-level-2);\n",
              "}\n",
              "\n",
              "/* Estimator label */\n",
              "\n",
              "#sk-container-id-1 div.sk-label label {\n",
              "  font-family: monospace;\n",
              "  font-weight: bold;\n",
              "  display: inline-block;\n",
              "  line-height: 1.2em;\n",
              "}\n",
              "\n",
              "#sk-container-id-1 div.sk-label-container {\n",
              "  text-align: center;\n",
              "}\n",
              "\n",
              "/* Estimator-specific */\n",
              "#sk-container-id-1 div.sk-estimator {\n",
              "  font-family: monospace;\n",
              "  border: 1px dotted var(--sklearn-color-border-box);\n",
              "  border-radius: 0.25em;\n",
              "  box-sizing: border-box;\n",
              "  margin-bottom: 0.5em;\n",
              "  /* unfitted */\n",
              "  background-color: var(--sklearn-color-unfitted-level-0);\n",
              "}\n",
              "\n",
              "#sk-container-id-1 div.sk-estimator.fitted {\n",
              "  /* fitted */\n",
              "  background-color: var(--sklearn-color-fitted-level-0);\n",
              "}\n",
              "\n",
              "/* on hover */\n",
              "#sk-container-id-1 div.sk-estimator:hover {\n",
              "  /* unfitted */\n",
              "  background-color: var(--sklearn-color-unfitted-level-2);\n",
              "}\n",
              "\n",
              "#sk-container-id-1 div.sk-estimator.fitted:hover {\n",
              "  /* fitted */\n",
              "  background-color: var(--sklearn-color-fitted-level-2);\n",
              "}\n",
              "\n",
              "/* Specification for estimator info (e.g. \"i\" and \"?\") */\n",
              "\n",
              "/* Common style for \"i\" and \"?\" */\n",
              "\n",
              ".sk-estimator-doc-link,\n",
              "a:link.sk-estimator-doc-link,\n",
              "a:visited.sk-estimator-doc-link {\n",
              "  float: right;\n",
              "  font-size: smaller;\n",
              "  line-height: 1em;\n",
              "  font-family: monospace;\n",
              "  background-color: var(--sklearn-color-background);\n",
              "  border-radius: 1em;\n",
              "  height: 1em;\n",
              "  width: 1em;\n",
              "  text-decoration: none !important;\n",
              "  margin-left: 1ex;\n",
              "  /* unfitted */\n",
              "  border: var(--sklearn-color-unfitted-level-1) 1pt solid;\n",
              "  color: var(--sklearn-color-unfitted-level-1);\n",
              "}\n",
              "\n",
              ".sk-estimator-doc-link.fitted,\n",
              "a:link.sk-estimator-doc-link.fitted,\n",
              "a:visited.sk-estimator-doc-link.fitted {\n",
              "  /* fitted */\n",
              "  border: var(--sklearn-color-fitted-level-1) 1pt solid;\n",
              "  color: var(--sklearn-color-fitted-level-1);\n",
              "}\n",
              "\n",
              "/* On hover */\n",
              "div.sk-estimator:hover .sk-estimator-doc-link:hover,\n",
              ".sk-estimator-doc-link:hover,\n",
              "div.sk-label-container:hover .sk-estimator-doc-link:hover,\n",
              ".sk-estimator-doc-link:hover {\n",
              "  /* unfitted */\n",
              "  background-color: var(--sklearn-color-unfitted-level-3);\n",
              "  color: var(--sklearn-color-background);\n",
              "  text-decoration: none;\n",
              "}\n",
              "\n",
              "div.sk-estimator.fitted:hover .sk-estimator-doc-link.fitted:hover,\n",
              ".sk-estimator-doc-link.fitted:hover,\n",
              "div.sk-label-container:hover .sk-estimator-doc-link.fitted:hover,\n",
              ".sk-estimator-doc-link.fitted:hover {\n",
              "  /* fitted */\n",
              "  background-color: var(--sklearn-color-fitted-level-3);\n",
              "  color: var(--sklearn-color-background);\n",
              "  text-decoration: none;\n",
              "}\n",
              "\n",
              "/* Span, style for the box shown on hovering the info icon */\n",
              ".sk-estimator-doc-link span {\n",
              "  display: none;\n",
              "  z-index: 9999;\n",
              "  position: relative;\n",
              "  font-weight: normal;\n",
              "  right: .2ex;\n",
              "  padding: .5ex;\n",
              "  margin: .5ex;\n",
              "  width: min-content;\n",
              "  min-width: 20ex;\n",
              "  max-width: 50ex;\n",
              "  color: var(--sklearn-color-text);\n",
              "  box-shadow: 2pt 2pt 4pt #999;\n",
              "  /* unfitted */\n",
              "  background: var(--sklearn-color-unfitted-level-0);\n",
              "  border: .5pt solid var(--sklearn-color-unfitted-level-3);\n",
              "}\n",
              "\n",
              ".sk-estimator-doc-link.fitted span {\n",
              "  /* fitted */\n",
              "  background: var(--sklearn-color-fitted-level-0);\n",
              "  border: var(--sklearn-color-fitted-level-3);\n",
              "}\n",
              "\n",
              ".sk-estimator-doc-link:hover span {\n",
              "  display: block;\n",
              "}\n",
              "\n",
              "/* \"?\"-specific style due to the `<a>` HTML tag */\n",
              "\n",
              "#sk-container-id-1 a.estimator_doc_link {\n",
              "  float: right;\n",
              "  font-size: 1rem;\n",
              "  line-height: 1em;\n",
              "  font-family: monospace;\n",
              "  background-color: var(--sklearn-color-background);\n",
              "  border-radius: 1rem;\n",
              "  height: 1rem;\n",
              "  width: 1rem;\n",
              "  text-decoration: none;\n",
              "  /* unfitted */\n",
              "  color: var(--sklearn-color-unfitted-level-1);\n",
              "  border: var(--sklearn-color-unfitted-level-1) 1pt solid;\n",
              "}\n",
              "\n",
              "#sk-container-id-1 a.estimator_doc_link.fitted {\n",
              "  /* fitted */\n",
              "  border: var(--sklearn-color-fitted-level-1) 1pt solid;\n",
              "  color: var(--sklearn-color-fitted-level-1);\n",
              "}\n",
              "\n",
              "/* On hover */\n",
              "#sk-container-id-1 a.estimator_doc_link:hover {\n",
              "  /* unfitted */\n",
              "  background-color: var(--sklearn-color-unfitted-level-3);\n",
              "  color: var(--sklearn-color-background);\n",
              "  text-decoration: none;\n",
              "}\n",
              "\n",
              "#sk-container-id-1 a.estimator_doc_link.fitted:hover {\n",
              "  /* fitted */\n",
              "  background-color: var(--sklearn-color-fitted-level-3);\n",
              "}\n",
              "</style><div id=\"sk-container-id-1\" class=\"sk-top-container\"><div class=\"sk-text-repr-fallback\"><pre>KNeighborsClassifier()</pre><b>In a Jupyter environment, please rerun this cell to show the HTML representation or trust the notebook. <br />On GitHub, the HTML representation is unable to render, please try loading this page with nbviewer.org.</b></div><div class=\"sk-container\" hidden><div class=\"sk-item\"><div class=\"sk-estimator fitted sk-toggleable\"><input class=\"sk-toggleable__control sk-hidden--visually\" id=\"sk-estimator-id-1\" type=\"checkbox\" checked><label for=\"sk-estimator-id-1\" class=\"sk-toggleable__label fitted sk-toggleable__label-arrow fitted\">&nbsp;&nbsp;KNeighborsClassifier<a class=\"sk-estimator-doc-link fitted\" rel=\"noreferrer\" target=\"_blank\" href=\"https://scikit-learn.org/1.5/modules/generated/sklearn.neighbors.KNeighborsClassifier.html\">?<span>Documentation for KNeighborsClassifier</span></a><span class=\"sk-estimator-doc-link fitted\">i<span>Fitted</span></span></label><div class=\"sk-toggleable__content fitted\"><pre>KNeighborsClassifier()</pre></div> </div></div></div></div>"
            ]
          },
          "metadata": {},
          "execution_count": 10
        }
      ],
      "source": [
        "modelKNN.fit(trainData, trainLabels)"
      ]
    },
    {
      "cell_type": "markdown",
      "metadata": {
        "id": "4y0gc-g0teOk"
      },
      "source": [
        "Una vez que el modelo está entrenado, podemos hacer predicciones con las instancias del conjunto de test"
      ]
    },
    {
      "cell_type": "code",
      "execution_count": 11,
      "metadata": {
        "collapsed": true,
        "id": "loRF5auHteOm",
        "colab": {
          "base_uri": "https://localhost:8080/"
        },
        "outputId": "b14aba5c-1bdd-4c92-a2a6-6db5521e4a32"
      },
      "outputs": [
        {
          "output_type": "execute_result",
          "data": {
            "text/plain": [
              "array([0.])"
            ]
          },
          "metadata": {},
          "execution_count": 11
        }
      ],
      "source": [
        "modelKNN.predict(testData[0].reshape(1,-1))"
      ]
    },
    {
      "cell_type": "markdown",
      "metadata": {
        "id": "BVSe-fO0teOr"
      },
      "source": [
        "Notad que también podemos hacer predicciones sobre todo el conjunto de test."
      ]
    },
    {
      "cell_type": "code",
      "execution_count": 12,
      "metadata": {
        "collapsed": true,
        "id": "CFLcN9FYteOs",
        "colab": {
          "base_uri": "https://localhost:8080/"
        },
        "outputId": "8113ac66-cffa-428b-9a2a-2e0a8627b83f"
      },
      "outputs": [
        {
          "output_type": "execute_result",
          "data": {
            "text/plain": [
              "array([0., 0., 0., 1., 0., 1., 0., 0., 1., 1., 0., 1., 0., 0., 0., 1., 0.,\n",
              "       0., 1., 0., 1., 0., 0., 0., 1., 1., 0., 0., 0., 0., 1., 0., 1., 1.,\n",
              "       0., 0., 1., 0., 0., 1., 0., 1., 1., 1., 0., 0., 0., 0., 0., 1., 0.,\n",
              "       1., 1., 0., 0., 0., 1., 0., 0., 1., 1., 0., 0., 0., 0., 1., 0., 1.,\n",
              "       0., 1., 1., 0., 0., 0., 0., 1., 1.])"
            ]
          },
          "metadata": {},
          "execution_count": 12
        }
      ],
      "source": [
        "modelKNN.predict(testData)"
      ]
    },
    {
      "cell_type": "markdown",
      "metadata": {
        "id": "G-GL3C3ateO0"
      },
      "source": [
        "##### Ejercicio\n",
        "\n",
        "¿Qué clase devuelve este clasficador para la decima instancia del conjunto de test?"
      ]
    },
    {
      "cell_type": "code",
      "execution_count": 14,
      "metadata": {
        "collapsed": true,
        "id": "wg_khXHsteO3",
        "colab": {
          "base_uri": "https://localhost:8080/"
        },
        "outputId": "1d18832b-84a2-45bc-ecfb-5e5ec772a33d"
      },
      "outputs": [
        {
          "output_type": "stream",
          "name": "stdout",
          "text": [
            "La clase predicha para la décima instancia es: 1.0\n"
          ]
        }
      ],
      "source": [
        "# Predicción para la décima instancia del conjunto de test\n",
        "prediccion_decima = modelKNN.predict(testData[9].reshape(1, -1))\n",
        "print(f\"La clase predicha para la décima instancia es: {prediccion_decima[0]}\")\n"
      ]
    },
    {
      "cell_type": "markdown",
      "metadata": {
        "id": "-CvcSHkyteO8"
      },
      "source": [
        "##### Ejercicio\n",
        "\n",
        "¿Cuántas predicciones cambian si pasamos de 5 a 7 vecinos? Añade todas las celdas que necesites a continuación."
      ]
    },
    {
      "cell_type": "code",
      "source": [
        "# Crear y entrenar el modelo con 7 vecinos\n",
        "modelKNN_7 = KNeighborsClassifier(n_neighbors=7)\n",
        "modelKNN_7.fit(trainData, trainLabels)\n",
        "\n",
        "# Predicciones con el modelo de 5 vecinos (ya hecho anteriormente)\n",
        "predicciones_5_vecinos = modelKNN.predict(testData)\n",
        "\n",
        "# Predicciones con el modelo de 7 vecinos\n",
        "predicciones_7_vecinos = modelKNN_7.predict(testData)\n",
        "\n",
        "# Comparar las predicciones y contar cuántas cambian\n",
        "cambios = (predicciones_5_vecinos != predicciones_7_vecinos).sum()\n",
        "print(f\"El número de predicciones que cambian al pasar de 5 a 7 vecinos es: {cambios}\")\n"
      ],
      "metadata": {
        "id": "4CeMZ2krft-E",
        "outputId": "7bf480cb-8064-4cf9-9dfa-5a0dbe215bb5",
        "colab": {
          "base_uri": "https://localhost:8080/"
        }
      },
      "execution_count": 18,
      "outputs": [
        {
          "output_type": "stream",
          "name": "stdout",
          "text": [
            "El número de predicciones que cambian al pasar de 5 a 7 vecinos es: 4\n"
          ]
        }
      ]
    },
    {
      "cell_type": "markdown",
      "metadata": {
        "id": "Unaf_pT6tePD"
      },
      "source": [
        "#### Árboles de decisión\n",
        "\n",
        "Veámos ahora como utilizar los árboles de decisión, veremos que el proceso es exactamente el mismo que antes. Comenzamos importando el clasificador."
      ]
    },
    {
      "cell_type": "code",
      "execution_count": null,
      "metadata": {
        "id": "uZQeR4l8tePF"
      },
      "outputs": [],
      "source": [
        "from sklearn.tree import DecisionTreeClassifier"
      ]
    },
    {
      "cell_type": "markdown",
      "metadata": {
        "id": "me1M8VBstePQ"
      },
      "source": [
        "Inicializamos el modelo con un estado aleatorio"
      ]
    },
    {
      "cell_type": "code",
      "execution_count": null,
      "metadata": {
        "id": "Y5OoODdwtePV"
      },
      "outputs": [],
      "source": [
        "modelArbol = DecisionTreeClassifier(random_state=84)"
      ]
    },
    {
      "cell_type": "markdown",
      "metadata": {
        "id": "9FondALJtePc"
      },
      "source": [
        "Entrenamos el clasificador pásandole el conjunto de entrenamiento y las etiquetas."
      ]
    },
    {
      "cell_type": "code",
      "execution_count": null,
      "metadata": {
        "id": "oDTkppFntePl"
      },
      "outputs": [],
      "source": [
        "modelArbol.fit(trainData, trainLabels)"
      ]
    },
    {
      "cell_type": "markdown",
      "metadata": {
        "id": "tp58hioDtePo"
      },
      "source": [
        "Una vez que el modelo está entrenado, podemos hacer predicciones con las instancias del conjunto de test"
      ]
    },
    {
      "cell_type": "code",
      "execution_count": null,
      "metadata": {
        "id": "akgNVry0tePq"
      },
      "outputs": [],
      "source": [
        "modelArbol.predict(testData[1].reshape(1,-1))"
      ]
    },
    {
      "cell_type": "markdown",
      "metadata": {
        "id": "DuA_ojKsteP3"
      },
      "source": [
        "Notad que podemos hacer predicciones individuales o sobre todo el conjunto."
      ]
    },
    {
      "cell_type": "code",
      "execution_count": null,
      "metadata": {
        "id": "uTdnhdOyteP7"
      },
      "outputs": [],
      "source": [
        "modelArbol.predict(testData)"
      ]
    },
    {
      "cell_type": "markdown",
      "metadata": {
        "id": "M12PggU1teP-"
      },
      "source": [
        "Como comentamos en teoría una de las ventajas de los árboles de decisión es que se pueden visualizar, para ello se usan los siguientes comandos. Lo primero que hacemos es exportar el árbol en formato DOT."
      ]
    },
    {
      "cell_type": "code",
      "execution_count": null,
      "metadata": {
        "id": "wXG6h0bzteP_"
      },
      "outputs": [],
      "source": [
        "from sklearn.tree import export_graphviz\n",
        "export_graphviz(modelArbol,out_file='tree.dot')"
      ]
    },
    {
      "cell_type": "markdown",
      "metadata": {
        "id": "izmu1erXteQC"
      },
      "source": [
        "El formato DOT no se puede visualizar directamente, así que es necesario convertir el fichero a png. Para ello se puede usar el siguiente comando (el ! inicial indica que es una instrucción del sistema, así que posiblemente solo funcione en Linux)."
      ]
    },
    {
      "cell_type": "code",
      "execution_count": null,
      "metadata": {
        "id": "2pX9eaeJteQC"
      },
      "outputs": [],
      "source": [
        "!dot -Tpng tree.dot -o tree.png"
      ]
    },
    {
      "cell_type": "markdown",
      "metadata": {
        "id": "-099361steQL"
      },
      "source": [
        "Por último mostramos el árbol."
      ]
    },
    {
      "cell_type": "code",
      "execution_count": null,
      "metadata": {
        "id": "o7zLEzsqteQM"
      },
      "outputs": [],
      "source": [
        "from IPython.display import Image\n",
        "Image(\"tree.png\")"
      ]
    },
    {
      "cell_type": "markdown",
      "metadata": {
        "id": "89BIIuRVteQU"
      },
      "source": [
        "Cada nodo del árbol (exceptuando los nodos hoja) consta de cuatro valores:\n",
        "- X[?1]<=?2 --> Indica la feature que se comprueba en ese nodo, si la               feature ?1 de una instancia cumple que es menor o igual que               el valor ?2, entonces va al subárbol izquierdo, de lo contrario               va al subárbol derecho.\n",
        "- gini = ? --> Índice de ganancia de Gini: coeficiente utilizado para hacer la              partición del dataset.\n",
        "- samples = ? --> Número de instancias del conjunto de entrenamiento que llegan                 hasta ese nodo.\n",
        "- value = [?1,?2] --> ?1 es el número de instancias de la clase 1, y ?2 es el                     número de instancias de la clase 2. En los nodos hojas                     uno de ellos siempre será 0."
      ]
    },
    {
      "cell_type": "markdown",
      "metadata": {
        "id": "RjeOVEOQteQV"
      },
      "source": [
        "##### Ejercicio\n",
        "\n",
        "¿Qué clase devuelve este clasificador para la decima instancia del conjunto de test?"
      ]
    },
    {
      "cell_type": "code",
      "execution_count": null,
      "metadata": {
        "id": "yuMvhyjmteQV"
      },
      "outputs": [],
      "source": []
    },
    {
      "cell_type": "markdown",
      "metadata": {
        "id": "QLnbg88WteQY"
      },
      "source": [
        "##### Ejercicio\n",
        "\n",
        "¿Cuál es la primera condición que se comprueba en el árbol?"
      ]
    },
    {
      "cell_type": "code",
      "execution_count": null,
      "metadata": {
        "id": "Y6xpX4_4teQZ"
      },
      "outputs": [],
      "source": []
    },
    {
      "cell_type": "markdown",
      "metadata": {
        "id": "Z8KvB6T0teQb"
      },
      "source": [
        "##### Ejercicio\n",
        "Determina la clase que predeciría el árbol de decisión construido anteriormente para una persona con las siguientes características:\n",
        " - Glucosa: 100\n",
        " - Edad: 32\n",
        " - BMI: 4.3"
      ]
    },
    {
      "cell_type": "code",
      "execution_count": null,
      "metadata": {
        "id": "odUrV7UwteQb"
      },
      "outputs": [],
      "source": []
    },
    {
      "cell_type": "markdown",
      "metadata": {
        "id": "7MLgOws1teQe"
      },
      "source": [
        "#### Regresión logística\n",
        "\n",
        "Pasamos ahora a la regresión logística, veremos que el proceso es el mismo que para los clasificadores anteriores."
      ]
    },
    {
      "cell_type": "code",
      "execution_count": null,
      "metadata": {
        "collapsed": true,
        "id": "928-Uw-mteQe"
      },
      "outputs": [],
      "source": [
        "from sklearn.linear_model import LogisticRegression\n",
        "modelLR = LogisticRegression(random_state=84)"
      ]
    },
    {
      "cell_type": "markdown",
      "metadata": {
        "id": "le3BoS1yteQh"
      },
      "source": [
        "Entrenamos el clasificador pasándole el conjunto de entrenamiento y las etiquetas."
      ]
    },
    {
      "cell_type": "code",
      "execution_count": null,
      "metadata": {
        "collapsed": true,
        "id": "gB4IvexwteQi"
      },
      "outputs": [],
      "source": [
        "modelLR.fit(trainData, trainLabels)"
      ]
    },
    {
      "cell_type": "markdown",
      "metadata": {
        "id": "i5kp6vOGteQl"
      },
      "source": [
        "Una vez que el modelo está entrenado, podemos hacer predicciones con las instancias del conjunto de test"
      ]
    },
    {
      "cell_type": "code",
      "execution_count": null,
      "metadata": {
        "collapsed": true,
        "id": "uNdZ9Tf4teQn"
      },
      "outputs": [],
      "source": [
        "modelLR.predict(testData[1].reshape(1,-1))"
      ]
    },
    {
      "cell_type": "code",
      "execution_count": null,
      "metadata": {
        "collapsed": true,
        "id": "kTOlPbJxteQr"
      },
      "outputs": [],
      "source": [
        "modelLR.predict(testData)"
      ]
    },
    {
      "cell_type": "markdown",
      "metadata": {
        "id": "jIYEwdISteQs"
      },
      "source": [
        "##### Ejercicio\n",
        "\n",
        "¿Qué clase devuelve este clasificador para la 10 instancia del conjunto de test?"
      ]
    },
    {
      "cell_type": "code",
      "execution_count": null,
      "metadata": {
        "collapsed": true,
        "id": "uvW5MZFpteQu"
      },
      "outputs": [],
      "source": []
    },
    {
      "cell_type": "markdown",
      "metadata": {
        "id": "YADGfXwdteQv"
      },
      "source": [
        "#### SVMs\n",
        "\n",
        "En este caso veremos como utilizar el SVM con un kernel lineal."
      ]
    },
    {
      "cell_type": "code",
      "execution_count": null,
      "metadata": {
        "id": "yj0xz3CBteQz"
      },
      "outputs": [],
      "source": [
        "from sklearn.svm import SVC\n",
        "modelSVMLineal = SVC(kernel=\"linear\")\n",
        "modelSVMLineal.fit(trainData, trainLabels)\n",
        "modelSVMLineal.predict(testData)"
      ]
    },
    {
      "cell_type": "markdown",
      "metadata": {
        "id": "UEfsWKn7teQ1"
      },
      "source": [
        "##### Ejercicio\n",
        "\n",
        "Busca en la documentación de sklearn como definir un modelo SVM que utilice un kernel sigmoide con gamma igual a 2 y coef0 igual a 1. Define dicho modelo, almacenalo en la variable modelSVMSigmoide, entrenalo, y utilizalo para predecir las clases de todas las instancias del conjunto de test."
      ]
    },
    {
      "cell_type": "code",
      "execution_count": null,
      "metadata": {
        "id": "Lx3HB1WxteQ2"
      },
      "outputs": [],
      "source": []
    },
    {
      "cell_type": "markdown",
      "metadata": {
        "id": "67SXIxTCteRD"
      },
      "source": [
        "##### Ejercicio\n",
        "\n",
        "Aunque en esta práctica no vamos hacer una evaluación completa de los algoritmos vamos a dar un primer paso para ver cuál de los modelos es el que funciona mejor. Para ello vamos a definir una función que tomará un clasificador ya entrenado, un conjunto de test y las etiquetas de dicho conjunto, y devuelva el número de instancias del conjunto de test que son clasificadas de manera correcta por el clasificador dado."
      ]
    },
    {
      "cell_type": "code",
      "execution_count": null,
      "metadata": {
        "id": "NzkD7U2GteRF"
      },
      "outputs": [],
      "source": [
        "def evalua(clasificador,testData,testLabels):\n",
        "    ???"
      ]
    },
    {
      "cell_type": "markdown",
      "metadata": {
        "id": "PegWDl9wteRH"
      },
      "source": [
        "##### Ejercicio\n",
        "¿Qué modelo de los que hemos definido hasta el momento clasifica más instancias de manera correcta?"
      ]
    },
    {
      "cell_type": "code",
      "execution_count": null,
      "metadata": {
        "id": "zNQl50BeteRJ"
      },
      "outputs": [],
      "source": []
    },
    {
      "cell_type": "markdown",
      "metadata": {
        "id": "xzR4aBcAteRQ"
      },
      "source": [
        "## Clasificación múltiple\n",
        "\n",
        "Pasamos ahora a ver un ejemplo de clasificación múltiple. Para ello utilizaremos el dataset [palmerpenguins](https://github.com/allisonhorst/palmerpenguins/) que es una alternativa al dataset de iris y que se centra en clasificar clases de pingüinos a partir de tres rasgos.\n",
        "\n",
        "\n",
        "\n",
        "![Clases](https://allisonhorst.github.io/palmerpenguins/logo.png)\n",
        "\n"
      ]
    },
    {
      "cell_type": "markdown",
      "metadata": {
        "id": "rU2wMeixteRR"
      },
      "source": [
        "### Paso 0: carga de datos\n",
        "\n",
        "Descargamos el dataset de palmerpenguins.\n",
        "\n",
        "El fichero cuenta con las siguientes columnas:\n",
        "- rowid: identificador de columnna.\n",
        "- species: la clase a predecir (adelie, chinstrap, o gentoo).\n",
        "- island: la isla en la cuál fue encontrada la especie.\n",
        "- bill_length_mm: longitud del pico.\n",
        "- bill_depth_mm: ancho del pico.\n",
        "- fliper_length_mm: longitud del ala.\n",
        "- fliper_depth_mm: ancho del ala.\n",
        "- body_mass_g: masa corporal.\n",
        "- sex: sexo.\n",
        "- year: año en el que fue tomada la muestra.  "
      ]
    },
    {
      "cell_type": "code",
      "execution_count": null,
      "metadata": {
        "id": "rGfwuWIGxzX6"
      },
      "outputs": [],
      "source": [
        "!wget https://gist.githubusercontent.com/slopp/ce3b90b9168f2f921784de84fa445651/raw/4ecf3041f0ed4913e7c230758733948bc561f434/penguins.csv -O penguins.csv"
      ]
    },
    {
      "cell_type": "markdown",
      "metadata": {
        "id": "8tZiF7q2_9v9"
      },
      "source": [
        "A continuación podemos cargar el fichero. Notar que algunas de las filas contienen valores nulos, por lo que las eliminaremos con la función ``dropna`` de pandas."
      ]
    },
    {
      "cell_type": "code",
      "execution_count": null,
      "metadata": {
        "id": "Yr_zWmYEAGht"
      },
      "outputs": [],
      "source": [
        "df = pd.read_csv('penguins.csv')\n",
        "df.dropna(inplace=True)"
      ]
    },
    {
      "cell_type": "markdown",
      "metadata": {
        "id": "E8b3j1I8x0E5"
      },
      "source": [
        "##### Ejercicio\n",
        "\n",
        "Almacena los vectores de descriptores en una variable Xpenguins y las etiquetas en una variable Ypenguins. Al igual que antes, los valores de Xpenguins (los descriptores bill_length_mm, bill_depth_mm, fliper_length_mm, fliper_length_mm y sex),  e Ypenguins (la variable species) deben ser cambiados por los valores adecuados."
      ]
    },
    {
      "cell_type": "code",
      "execution_count": null,
      "metadata": {
        "id": "Y7OrlmcoteRS"
      },
      "outputs": [],
      "source": [
        "Xpenguins = ???\n",
        "Ypenguins = ???"
      ]
    },
    {
      "cell_type": "markdown",
      "metadata": {
        "id": "6MOwoJAXteRV"
      },
      "source": [
        "Si se definen de manera correcta Xpenguins e Ypenguins, deberías obtener los siguientes resultados al evaluar la celda siguiente.\n",
        "\n",
        "| Expresión | Resultado |\n",
        "| --- | --- |\n",
        "|len(Xpenguins) | 333|\n",
        "|Xpenguins[4] | [39.3 20.6 190.0 3650.0 'male'] |\n",
        "|Ypenguins[10] | Adelie |\n",
        "|Ypenguins[50] | Chinstrap |"
      ]
    },
    {
      "cell_type": "code",
      "execution_count": null,
      "metadata": {
        "id": "yjG9CSm7teRW"
      },
      "outputs": [],
      "source": [
        "print(len(Xpenguins))\n",
        "print(Xpenguins[4])\n",
        "print(Ypenguins[10])\n",
        "print(Ypenguins[300])"
      ]
    },
    {
      "cell_type": "markdown",
      "metadata": {
        "id": "gZjwt28FteRZ"
      },
      "source": [
        "### Paso 1: partición de conjunto de entrenamiento y de test\n",
        "\n",
        "##### Ejercicio\n",
        "Utilizando la función train_test_split parte el conjunto de penguins en dos conjuntos (entrenamiento y test) usando un 25% para test y utilizando como estado aleatorio el valor 42. El resultado lo almacenaras en las variables trainPenguinsData, testPenguinsData, trainPenguinsLabels y testPenguinsLabels."
      ]
    },
    {
      "cell_type": "code",
      "execution_count": null,
      "metadata": {
        "id": "oVxJZssrteRb"
      },
      "outputs": [],
      "source": [
        "(trainPenguinsData, testPenguinsData, trainPenguinsLabels, testPenguinsLabels) = ???"
      ]
    },
    {
      "cell_type": "markdown",
      "metadata": {
        "id": "BJt_K1-xteRe"
      },
      "source": [
        "Si evalúas la celda siguiente los resultados que deberías obtener son los siguientes.\n",
        "\n",
        "| Expresión | Resultado |\n",
        "|---|---|\n",
        "|trainPenguinsLabels[8]| Adelie |\n",
        "|testPenguinsLabels[25]| Adelie |\n",
        "|trainPenguinsData[20]| [47.3 15.3 222.0 5250.0 'male'] |\n",
        "|testPenguinsData[10] | [42.9 17.6 196.0 4700.0 'male'] |"
      ]
    },
    {
      "cell_type": "code",
      "execution_count": null,
      "metadata": {
        "id": "N9TX4m4SteRg"
      },
      "outputs": [],
      "source": [
        "print(trainPenguinsLabels[8])\n",
        "print(testPenguinsLabels[25])\n",
        "print(trainPenguinsData[20])\n",
        "print(testPenguinsData[10])"
      ]
    },
    {
      "cell_type": "markdown",
      "metadata": {
        "id": "QI4oEeCj18gL"
      },
      "source": [
        "Como tenemos una columna que no es numérica, será necesario transformarla utilizando la aproximación one-hot encoding. Esta aproximación asigna un índice a cada una de las alternativas posibles, genera un vector de longitud el tamaño de alternativas  formado por todo ceros salvo en la posición del índice de la alternativa que toma el valor uno. Esta funcionalidad viene implementada en sklearn mediante el operador ``OneHotEncoder``."
      ]
    },
    {
      "cell_type": "code",
      "execution_count": null,
      "metadata": {
        "id": "McWFIpyo2imk"
      },
      "outputs": [],
      "source": [
        "from sklearn.preprocessing import OneHotEncoder"
      ]
    },
    {
      "cell_type": "markdown",
      "metadata": {
        "id": "nmH0-RMz9LYW"
      },
      "source": [
        "A continuación definimos el codificador. Le indicamos que si la categoría es desconocida, lo indique como una nueva clase."
      ]
    },
    {
      "cell_type": "code",
      "execution_count": null,
      "metadata": {
        "id": "yKxWBgjx2qc8"
      },
      "outputs": [],
      "source": [
        "enc = OneHotEncoder(handle_unknown='ignore')"
      ]
    },
    {
      "cell_type": "markdown",
      "metadata": {
        "id": "jqWPp6By9dw7"
      },
      "source": [
        "Ahora podemos transformar los datos de la columna ``sex``. Notar que para el conjunto de entrenamiento usamos la función ``fit_transform`` que entrena el codificador y lo usa para transformar los datos del conjunto de entrenamiento, mientras la función ``transform`` se utiliza solo cuando el codificador ya está construido y se aplica al conjunto de test."
      ]
    },
    {
      "cell_type": "code",
      "execution_count": null,
      "metadata": {
        "id": "YYtV3xIs2tPs"
      },
      "outputs": [],
      "source": [
        "sexoCodificadoTrain = enc.fit_transform(trainPenguinsData[:,-1].reshape(-1, 1))\n",
        "sexoCodificadoTest = enc.transform(testPenguinsData[:,-1].reshape(-1,1))"
      ]
    },
    {
      "cell_type": "markdown",
      "metadata": {
        "id": "otrXpXvQ_NMa"
      },
      "source": [
        "Volvemos a unir los datos que habíamos separado previamente y ya podemos usar estos datos para entrenar los modelos."
      ]
    },
    {
      "cell_type": "code",
      "execution_count": null,
      "metadata": {
        "id": "IE9c6zhE2x1j"
      },
      "outputs": [],
      "source": [
        "import numpy as np\n",
        "trainPenguinsData = np.concatenate((trainPenguinsData[:,:-1],sexoCodificadoTrain.toarray()),axis=1)\n",
        "testPenguinsData = np.concatenate((testPenguinsData[:,:-1],sexoCodificadoTest.toarray()),axis=1)"
      ]
    },
    {
      "cell_type": "markdown",
      "metadata": {
        "id": "yB9UWnIkteRp"
      },
      "source": [
        "### Paso 2: entrenando distintos algoritmos\n",
        "\n",
        "Como vimos en clase hay algunos algoritmos que están pensados para trabajar\n",
        "en el contexto de clasificación binaria (Regresión Logística y SVM). Para estos algoritmos la librería usa la estrategia uno-contra-uno en el caso de SVM y la estrategia uno-contra-todos en el caso de regresión logística, pero no hay que hacer ninguna modificación a la hora de trabajar con ellos. Otros algoritmos pueden trabajar con su formulación original en el caso\n",
        "de clasificación múltiple (Knn, Árboles de decisión y las redes neuronales). Así que podemos trabajar con los clasificadores como hemos visto hasta ahora.\n",
        "\n",
        "##### Ejercicio\n",
        "\n",
        "Inicializar y entrenar los siguientes clasificadores con el dataset de penguins:\n",
        " - Knn con 5 vecinos (almacenarlo en la variable modelPenguinsKnn)\n",
        " - Árbol de decisión con estado aleatorio 84 (almacenarlo en modelPenguinsArbol).\n",
        " - Regresión logística (almacenarlo en la variable modelPenguinsRL).\n",
        " - SVM con kernel lineal (almacenarlo en la variable modelPenguinsSVMLineal).\n",
        " - SVM con kernel sigmoide gamma=2, r=1 (almacenarlo en la variable\n",
        "   modelPenguinsSVMSigmoide).\n"
      ]
    },
    {
      "cell_type": "code",
      "execution_count": null,
      "metadata": {
        "id": "qWnL80DwteRs"
      },
      "outputs": [],
      "source": [
        "modelPenguinsKNN = ???\n",
        "modelPenguinsArbol= ???\n",
        "modelPenguinsLR= ???\n",
        "modelPenguinsSVMLineal= ???\n",
        "modelPenguinsSVMSigmoide = ???\n",
        "\n",
        "modelPenguinsKNN.fit(???)\n",
        "modelPenguinsArbol.fit(???)\n",
        "modelPenguinsLR.fit(???)\n",
        "modelPenguinsSVMLineal.fit(???)\n",
        "modelPenguinsSVMSigmoide.fit(???)"
      ]
    },
    {
      "cell_type": "markdown",
      "metadata": {
        "id": "8dkTSblOteRu"
      },
      "source": [
        "##### Ejercicio\n",
        "\n",
        "Utilizando la función evalua definida anteriormente ¿Qué modelo clasifica más instancias de manera correcta en el problema de penguins?"
      ]
    },
    {
      "cell_type": "code",
      "execution_count": null,
      "metadata": {
        "id": "8XY_vOYuteRv"
      },
      "outputs": [],
      "source": []
    },
    {
      "cell_type": "markdown",
      "metadata": {
        "id": "DSi74uiqtpg0"
      },
      "source": [
        "## Entrega\n",
        "\n",
        "Recuerda guardar tus cambios en tu repositorio utilizando la opción \"Save a copy in GitHub...\" del menú File."
      ]
    }
  ],
  "metadata": {
    "colab": {
      "name": "Parte1.ipynb",
      "provenance": []
    },
    "kernelspec": {
      "display_name": "Python 3 (ipykernel)",
      "language": "python",
      "name": "python3"
    },
    "language_info": {
      "codemirror_mode": {
        "name": "ipython",
        "version": 3
      },
      "file_extension": ".py",
      "mimetype": "text/x-python",
      "name": "python",
      "nbconvert_exporter": "python",
      "pygments_lexer": "ipython3",
      "version": "3.8.10"
    }
  },
  "nbformat": 4,
  "nbformat_minor": 0
}