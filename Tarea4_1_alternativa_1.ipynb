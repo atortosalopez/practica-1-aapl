{
  "nbformat": 4,
  "nbformat_minor": 0,
  "metadata": {
    "colab": {
      "provenance": [],
      "authorship_tag": "ABX9TyNDieahi481xMNE9iCRAAmb",
      "include_colab_link": true
    },
    "kernelspec": {
      "name": "python3",
      "display_name": "Python 3"
    },
    "language_info": {
      "name": "python"
    },
    "widgets": {
      "application/vnd.jupyter.widget-state+json": {
        "2a01708560c04534997efaf7ff93cd3c": {
          "model_module": "@jupyter-widgets/controls",
          "model_name": "HBoxModel",
          "model_module_version": "1.5.0",
          "state": {
            "_dom_classes": [],
            "_model_module": "@jupyter-widgets/controls",
            "_model_module_version": "1.5.0",
            "_model_name": "HBoxModel",
            "_view_count": null,
            "_view_module": "@jupyter-widgets/controls",
            "_view_module_version": "1.5.0",
            "_view_name": "HBoxView",
            "box_style": "",
            "children": [
              "IPY_MODEL_2902a7ada09d4f6a98d0255e944221d3",
              "IPY_MODEL_2ad4361a599748b984e634f7f39094bd",
              "IPY_MODEL_a93ab93f6fc64742911289a4f914c473"
            ],
            "layout": "IPY_MODEL_03e045b0590a46a7b3a5411dc1c9a738"
          }
        },
        "2902a7ada09d4f6a98d0255e944221d3": {
          "model_module": "@jupyter-widgets/controls",
          "model_name": "HTMLModel",
          "model_module_version": "1.5.0",
          "state": {
            "_dom_classes": [],
            "_model_module": "@jupyter-widgets/controls",
            "_model_module_version": "1.5.0",
            "_model_name": "HTMLModel",
            "_view_count": null,
            "_view_module": "@jupyter-widgets/controls",
            "_view_module_version": "1.5.0",
            "_view_name": "HTMLView",
            "description": "",
            "description_tooltip": null,
            "layout": "IPY_MODEL_91f777689c1e4110baf17fc556462e25",
            "placeholder": "​",
            "style": "IPY_MODEL_c6922c7b48314217840faedcfedcfdfe",
            "value": ""
          }
        },
        "2ad4361a599748b984e634f7f39094bd": {
          "model_module": "@jupyter-widgets/controls",
          "model_name": "FloatProgressModel",
          "model_module_version": "1.5.0",
          "state": {
            "_dom_classes": [],
            "_model_module": "@jupyter-widgets/controls",
            "_model_module_version": "1.5.0",
            "_model_name": "FloatProgressModel",
            "_view_count": null,
            "_view_module": "@jupyter-widgets/controls",
            "_view_module_version": "1.5.0",
            "_view_name": "ProgressView",
            "bar_style": "success",
            "description": "",
            "description_tooltip": null,
            "layout": "IPY_MODEL_32e8a6236409447890aec239b42bd88f",
            "max": 1,
            "min": 0,
            "orientation": "horizontal",
            "style": "IPY_MODEL_924cc4fd4f59470c9e97022e42c49fca",
            "value": 0
          }
        },
        "a93ab93f6fc64742911289a4f914c473": {
          "model_module": "@jupyter-widgets/controls",
          "model_name": "HTMLModel",
          "model_module_version": "1.5.0",
          "state": {
            "_dom_classes": [],
            "_model_module": "@jupyter-widgets/controls",
            "_model_module_version": "1.5.0",
            "_model_name": "HTMLModel",
            "_view_count": null,
            "_view_module": "@jupyter-widgets/controls",
            "_view_module_version": "1.5.0",
            "_view_name": "HTMLView",
            "description": "",
            "description_tooltip": null,
            "layout": "IPY_MODEL_98fade17bbde4da18bc9afbad7424b15",
            "placeholder": "​",
            "style": "IPY_MODEL_5885beed24ce4f278c63ad6c015e68a5",
            "value": " 0/0 [00:00&lt;?, ?it/s]"
          }
        },
        "03e045b0590a46a7b3a5411dc1c9a738": {
          "model_module": "@jupyter-widgets/base",
          "model_name": "LayoutModel",
          "model_module_version": "1.2.0",
          "state": {
            "_model_module": "@jupyter-widgets/base",
            "_model_module_version": "1.2.0",
            "_model_name": "LayoutModel",
            "_view_count": null,
            "_view_module": "@jupyter-widgets/base",
            "_view_module_version": "1.2.0",
            "_view_name": "LayoutView",
            "align_content": null,
            "align_items": null,
            "align_self": null,
            "border": null,
            "bottom": null,
            "display": null,
            "flex": null,
            "flex_flow": null,
            "grid_area": null,
            "grid_auto_columns": null,
            "grid_auto_flow": null,
            "grid_auto_rows": null,
            "grid_column": null,
            "grid_gap": null,
            "grid_row": null,
            "grid_template_areas": null,
            "grid_template_columns": null,
            "grid_template_rows": null,
            "height": null,
            "justify_content": null,
            "justify_items": null,
            "left": null,
            "margin": null,
            "max_height": null,
            "max_width": null,
            "min_height": null,
            "min_width": null,
            "object_fit": null,
            "object_position": null,
            "order": null,
            "overflow": null,
            "overflow_x": null,
            "overflow_y": null,
            "padding": null,
            "right": null,
            "top": null,
            "visibility": null,
            "width": null
          }
        },
        "91f777689c1e4110baf17fc556462e25": {
          "model_module": "@jupyter-widgets/base",
          "model_name": "LayoutModel",
          "model_module_version": "1.2.0",
          "state": {
            "_model_module": "@jupyter-widgets/base",
            "_model_module_version": "1.2.0",
            "_model_name": "LayoutModel",
            "_view_count": null,
            "_view_module": "@jupyter-widgets/base",
            "_view_module_version": "1.2.0",
            "_view_name": "LayoutView",
            "align_content": null,
            "align_items": null,
            "align_self": null,
            "border": null,
            "bottom": null,
            "display": null,
            "flex": null,
            "flex_flow": null,
            "grid_area": null,
            "grid_auto_columns": null,
            "grid_auto_flow": null,
            "grid_auto_rows": null,
            "grid_column": null,
            "grid_gap": null,
            "grid_row": null,
            "grid_template_areas": null,
            "grid_template_columns": null,
            "grid_template_rows": null,
            "height": null,
            "justify_content": null,
            "justify_items": null,
            "left": null,
            "margin": null,
            "max_height": null,
            "max_width": null,
            "min_height": null,
            "min_width": null,
            "object_fit": null,
            "object_position": null,
            "order": null,
            "overflow": null,
            "overflow_x": null,
            "overflow_y": null,
            "padding": null,
            "right": null,
            "top": null,
            "visibility": null,
            "width": null
          }
        },
        "c6922c7b48314217840faedcfedcfdfe": {
          "model_module": "@jupyter-widgets/controls",
          "model_name": "DescriptionStyleModel",
          "model_module_version": "1.5.0",
          "state": {
            "_model_module": "@jupyter-widgets/controls",
            "_model_module_version": "1.5.0",
            "_model_name": "DescriptionStyleModel",
            "_view_count": null,
            "_view_module": "@jupyter-widgets/base",
            "_view_module_version": "1.2.0",
            "_view_name": "StyleView",
            "description_width": ""
          }
        },
        "32e8a6236409447890aec239b42bd88f": {
          "model_module": "@jupyter-widgets/base",
          "model_name": "LayoutModel",
          "model_module_version": "1.2.0",
          "state": {
            "_model_module": "@jupyter-widgets/base",
            "_model_module_version": "1.2.0",
            "_model_name": "LayoutModel",
            "_view_count": null,
            "_view_module": "@jupyter-widgets/base",
            "_view_module_version": "1.2.0",
            "_view_name": "LayoutView",
            "align_content": null,
            "align_items": null,
            "align_self": null,
            "border": null,
            "bottom": null,
            "display": null,
            "flex": null,
            "flex_flow": null,
            "grid_area": null,
            "grid_auto_columns": null,
            "grid_auto_flow": null,
            "grid_auto_rows": null,
            "grid_column": null,
            "grid_gap": null,
            "grid_row": null,
            "grid_template_areas": null,
            "grid_template_columns": null,
            "grid_template_rows": null,
            "height": null,
            "justify_content": null,
            "justify_items": null,
            "left": null,
            "margin": null,
            "max_height": null,
            "max_width": null,
            "min_height": null,
            "min_width": null,
            "object_fit": null,
            "object_position": null,
            "order": null,
            "overflow": null,
            "overflow_x": null,
            "overflow_y": null,
            "padding": null,
            "right": null,
            "top": null,
            "visibility": null,
            "width": "20px"
          }
        },
        "924cc4fd4f59470c9e97022e42c49fca": {
          "model_module": "@jupyter-widgets/controls",
          "model_name": "ProgressStyleModel",
          "model_module_version": "1.5.0",
          "state": {
            "_model_module": "@jupyter-widgets/controls",
            "_model_module_version": "1.5.0",
            "_model_name": "ProgressStyleModel",
            "_view_count": null,
            "_view_module": "@jupyter-widgets/base",
            "_view_module_version": "1.2.0",
            "_view_name": "StyleView",
            "bar_color": null,
            "description_width": ""
          }
        },
        "98fade17bbde4da18bc9afbad7424b15": {
          "model_module": "@jupyter-widgets/base",
          "model_name": "LayoutModel",
          "model_module_version": "1.2.0",
          "state": {
            "_model_module": "@jupyter-widgets/base",
            "_model_module_version": "1.2.0",
            "_model_name": "LayoutModel",
            "_view_count": null,
            "_view_module": "@jupyter-widgets/base",
            "_view_module_version": "1.2.0",
            "_view_name": "LayoutView",
            "align_content": null,
            "align_items": null,
            "align_self": null,
            "border": null,
            "bottom": null,
            "display": null,
            "flex": null,
            "flex_flow": null,
            "grid_area": null,
            "grid_auto_columns": null,
            "grid_auto_flow": null,
            "grid_auto_rows": null,
            "grid_column": null,
            "grid_gap": null,
            "grid_row": null,
            "grid_template_areas": null,
            "grid_template_columns": null,
            "grid_template_rows": null,
            "height": null,
            "justify_content": null,
            "justify_items": null,
            "left": null,
            "margin": null,
            "max_height": null,
            "max_width": null,
            "min_height": null,
            "min_width": null,
            "object_fit": null,
            "object_position": null,
            "order": null,
            "overflow": null,
            "overflow_x": null,
            "overflow_y": null,
            "padding": null,
            "right": null,
            "top": null,
            "visibility": null,
            "width": null
          }
        },
        "5885beed24ce4f278c63ad6c015e68a5": {
          "model_module": "@jupyter-widgets/controls",
          "model_name": "DescriptionStyleModel",
          "model_module_version": "1.5.0",
          "state": {
            "_model_module": "@jupyter-widgets/controls",
            "_model_module_version": "1.5.0",
            "_model_name": "DescriptionStyleModel",
            "_view_count": null,
            "_view_module": "@jupyter-widgets/base",
            "_view_module_version": "1.2.0",
            "_view_name": "StyleView",
            "description_width": ""
          }
        }
      }
    }
  },
  "cells": [
    {
      "cell_type": "markdown",
      "metadata": {
        "id": "view-in-github",
        "colab_type": "text"
      },
      "source": [
        "<a href=\"https://colab.research.google.com/github/atortosalopez/practica-1-aapl/blob/main/Tarea4_1_alternativa_1.ipynb\" target=\"_parent\"><img src=\"https://colab.research.google.com/assets/colab-badge.svg\" alt=\"Open In Colab\"/></a>"
      ]
    },
    {
      "cell_type": "code",
      "source": [
        "# ✅ Solución completa: instala todas las dependencias necesarias en un solo paso\n",
        "# Esto ayuda a evitar conflictos de versiones\n",
        "!pip install -q -U transformers==4.35.2 gtts==2.5.1 numpy==1.24.4 jax[cpu]\n",
        "\n",
        "# %%\n",
        "import os\n",
        "# Set the JAX CPU collectives implementation environment variable\n",
        "# This might help prevent the 'Config option already defined' error\n",
        "os.environ['JAX_CPU_COLLECTIVES_IMPLEMENTATION'] = 'none'\n",
        "\n",
        "from transformers import pipeline\n",
        "from gtts import gTTS\n",
        "from IPython.display import Audio\n",
        "import os\n",
        "\n",
        "# 1. Traducir del español al alemán\n",
        "# El modelo Helsinki-NLP/opus-mt-es-de será descargado si no está ya en caché\n",
        "translator = pipeline(\"translation\", model=\"Helsinki-NLP/opus-mt-es-de\")\n",
        "texto_es = \"La inteligencia artificial es una herramienta poderosa y moderna.\"\n",
        "traduccion = translator(texto_es, max_length=512)[0]['translation_text']\n",
        "print(\"🔤 Traducción al alemán:\", traduccion)\n",
        "\n",
        "# 2. Generar voz con gTTS\n",
        "tts = gTTS(text=traduccion, lang=\"de\")\n",
        "# Asegurarse de que el directorio de salida existe si es necesario (no aplica aquí ya que es el dir actual)\n",
        "tts.save(\"voz_aleman.mp3\")\n",
        "\n",
        "# 3. Reproducir audio directamente\n",
        "# Reproduce el archivo MP3 guardado\n",
        "Audio(\"voz_aleman.mp3\")\n",
        "\n",
        "# %%\n",
        "# Se eliminan las celdas de instalación redundantes para mantener el entorno limpio y consistente.\n",
        "# Si necesitas reinstalar, ejecuta la primera celda de nuevo.\n",
        "\n",
        "# %%\n",
        "# Se eliminan las celdas de instalación redundantes para mantener el entorno limpio y consistente.\n",
        "# La instalación se realiza en la primera celda.\n",
        "\n",
        "# Ahora solo ejecuta el código que usa las librerías instaladas.\n",
        "# Note: The JAX_CPU_COLLECTIVES_IMPLEMENTATION environment variable is set at the beginning\n",
        "# of the notebook, which should persist across cells.\n",
        "from transformers import pipeline\n",
        "from gtts import gTTS\n",
        "from IPython.display import Audio\n",
        "import os\n",
        "\n",
        "# Traducir del español al alemán\n",
        "# El modelo ya debería estar en caché de la ejecución anterior\n",
        "translator = pipeline(\"translation\", model=\"Helsinki-NLP/opus-mt-es-de\")\n",
        "texto_es = \"La inteligencia artificial es una herramienta poderosa y moderna.\"\n",
        "traduccion = translator(texto_es, max_length=512)[0]['translation_text']\n",
        "print(\"🔤 Traducción al alemán:\", traduccion)\n",
        "\n",
        "# Generar voz con gTTS\n",
        "tts = gTTS(text=traduccion, lang=\"de\")\n",
        "tts.save(\"voz_aleman.mp3\")\n",
        "\n",
        "# Reproducir\n",
        "Audio(\"voz_aleman.mp3\")"
      ],
      "metadata": {
        "colab": {
          "base_uri": "https://localhost:8080/",
          "height": 356
        },
        "id": "SP8sdETc9CJZ",
        "outputId": "a0336de6-429c-4a49-fd87-9a8834aebdc4"
      },
      "execution_count": 4,
      "outputs": [
        {
          "output_type": "error",
          "ename": "Exception",
          "evalue": "Config option jax_xla_backend already defined",
          "traceback": [
            "\u001b[0;31m---------------------------------------------------------------------------\u001b[0m",
            "\u001b[0;31mException\u001b[0m                                 Traceback (most recent call last)",
            "\u001b[0;32m/tmp/ipython-input-4-1083328590.py\u001b[0m in \u001b[0;36m<cell line: 0>\u001b[0;34m()\u001b[0m\n\u001b[1;32m      9\u001b[0m \u001b[0mos\u001b[0m\u001b[0;34m.\u001b[0m\u001b[0menviron\u001b[0m\u001b[0;34m[\u001b[0m\u001b[0;34m'JAX_CPU_COLLECTIVES_IMPLEMENTATION'\u001b[0m\u001b[0;34m]\u001b[0m \u001b[0;34m=\u001b[0m \u001b[0;34m'none'\u001b[0m\u001b[0;34m\u001b[0m\u001b[0;34m\u001b[0m\u001b[0m\n\u001b[1;32m     10\u001b[0m \u001b[0;34m\u001b[0m\u001b[0m\n\u001b[0;32m---> 11\u001b[0;31m \u001b[0;32mfrom\u001b[0m \u001b[0mtransformers\u001b[0m \u001b[0;32mimport\u001b[0m \u001b[0mpipeline\u001b[0m\u001b[0;34m\u001b[0m\u001b[0;34m\u001b[0m\u001b[0m\n\u001b[0m\u001b[1;32m     12\u001b[0m \u001b[0;32mfrom\u001b[0m \u001b[0mgtts\u001b[0m \u001b[0;32mimport\u001b[0m \u001b[0mgTTS\u001b[0m\u001b[0;34m\u001b[0m\u001b[0;34m\u001b[0m\u001b[0m\n\u001b[1;32m     13\u001b[0m \u001b[0;32mfrom\u001b[0m \u001b[0mIPython\u001b[0m\u001b[0;34m.\u001b[0m\u001b[0mdisplay\u001b[0m \u001b[0;32mimport\u001b[0m \u001b[0mAudio\u001b[0m\u001b[0;34m\u001b[0m\u001b[0;34m\u001b[0m\u001b[0m\n",
            "\u001b[0;32m/usr/local/lib/python3.11/dist-packages/transformers/__init__.py\u001b[0m in \u001b[0;36m<module>\u001b[0;34m\u001b[0m\n\u001b[1;32m     24\u001b[0m \u001b[0;34m\u001b[0m\u001b[0m\n\u001b[1;32m     25\u001b[0m \u001b[0;31m# Check the dependencies satisfy the minimal versions required.\u001b[0m\u001b[0;34m\u001b[0m\u001b[0;34m\u001b[0m\u001b[0m\n\u001b[0;32m---> 26\u001b[0;31m \u001b[0;32mfrom\u001b[0m \u001b[0;34m.\u001b[0m \u001b[0;32mimport\u001b[0m \u001b[0mdependency_versions_check\u001b[0m\u001b[0;34m\u001b[0m\u001b[0;34m\u001b[0m\u001b[0m\n\u001b[0m\u001b[1;32m     27\u001b[0m from .utils import (\n\u001b[1;32m     28\u001b[0m     \u001b[0mOptionalDependencyNotAvailable\u001b[0m\u001b[0;34m,\u001b[0m\u001b[0;34m\u001b[0m\u001b[0;34m\u001b[0m\u001b[0m\n",
            "\u001b[0;32m/usr/local/lib/python3.11/dist-packages/transformers/dependency_versions_check.py\u001b[0m in \u001b[0;36m<module>\u001b[0;34m\u001b[0m\n\u001b[1;32m     14\u001b[0m \u001b[0;34m\u001b[0m\u001b[0m\n\u001b[1;32m     15\u001b[0m \u001b[0;32mfrom\u001b[0m \u001b[0;34m.\u001b[0m\u001b[0mdependency_versions_table\u001b[0m \u001b[0;32mimport\u001b[0m \u001b[0mdeps\u001b[0m\u001b[0;34m\u001b[0m\u001b[0;34m\u001b[0m\u001b[0m\n\u001b[0;32m---> 16\u001b[0;31m \u001b[0;32mfrom\u001b[0m \u001b[0;34m.\u001b[0m\u001b[0mutils\u001b[0m\u001b[0;34m.\u001b[0m\u001b[0mversions\u001b[0m \u001b[0;32mimport\u001b[0m \u001b[0mrequire_version\u001b[0m\u001b[0;34m,\u001b[0m \u001b[0mrequire_version_core\u001b[0m\u001b[0;34m\u001b[0m\u001b[0;34m\u001b[0m\u001b[0m\n\u001b[0m\u001b[1;32m     17\u001b[0m \u001b[0;34m\u001b[0m\u001b[0m\n\u001b[1;32m     18\u001b[0m \u001b[0;34m\u001b[0m\u001b[0m\n",
            "\u001b[0;32m/usr/local/lib/python3.11/dist-packages/transformers/utils/__init__.py\u001b[0m in \u001b[0;36m<module>\u001b[0;34m\u001b[0m\n\u001b[1;32m     29\u001b[0m     \u001b[0mreplace_return_docstrings\u001b[0m\u001b[0;34m,\u001b[0m\u001b[0;34m\u001b[0m\u001b[0;34m\u001b[0m\u001b[0m\n\u001b[1;32m     30\u001b[0m )\n\u001b[0;32m---> 31\u001b[0;31m from .generic import (\n\u001b[0m\u001b[1;32m     32\u001b[0m     \u001b[0mContextManagers\u001b[0m\u001b[0;34m,\u001b[0m\u001b[0;34m\u001b[0m\u001b[0;34m\u001b[0m\u001b[0m\n\u001b[1;32m     33\u001b[0m     \u001b[0mExplicitEnum\u001b[0m\u001b[0;34m,\u001b[0m\u001b[0;34m\u001b[0m\u001b[0;34m\u001b[0m\u001b[0m\n",
            "\u001b[0;32m/usr/local/lib/python3.11/dist-packages/transformers/utils/generic.py\u001b[0m in \u001b[0;36m<module>\u001b[0;34m\u001b[0m\n\u001b[1;32m     31\u001b[0m \u001b[0;34m\u001b[0m\u001b[0m\n\u001b[1;32m     32\u001b[0m \u001b[0;32mif\u001b[0m \u001b[0mis_flax_available\u001b[0m\u001b[0;34m(\u001b[0m\u001b[0;34m)\u001b[0m\u001b[0;34m:\u001b[0m\u001b[0;34m\u001b[0m\u001b[0;34m\u001b[0m\u001b[0m\n\u001b[0;32m---> 33\u001b[0;31m     \u001b[0;32mimport\u001b[0m \u001b[0mjax\u001b[0m\u001b[0;34m.\u001b[0m\u001b[0mnumpy\u001b[0m \u001b[0;32mas\u001b[0m \u001b[0mjnp\u001b[0m\u001b[0;34m\u001b[0m\u001b[0;34m\u001b[0m\u001b[0m\n\u001b[0m\u001b[1;32m     34\u001b[0m \u001b[0;34m\u001b[0m\u001b[0m\n\u001b[1;32m     35\u001b[0m \u001b[0;34m\u001b[0m\u001b[0m\n",
            "\u001b[0;32m/usr/local/lib/python3.11/dist-packages/jax/__init__.py\u001b[0m in \u001b[0;36m<module>\u001b[0;34m\u001b[0m\n\u001b[1;32m     35\u001b[0m \u001b[0;34m\u001b[0m\u001b[0m\n\u001b[1;32m     36\u001b[0m \u001b[0;31m# Force early import, allowing use of `jax.core` after importing `jax`.\u001b[0m\u001b[0;34m\u001b[0m\u001b[0;34m\u001b[0m\u001b[0m\n\u001b[0;32m---> 37\u001b[0;31m \u001b[0;32mimport\u001b[0m \u001b[0mjax\u001b[0m\u001b[0;34m.\u001b[0m\u001b[0mcore\u001b[0m \u001b[0;32mas\u001b[0m \u001b[0m_core\u001b[0m\u001b[0;34m\u001b[0m\u001b[0;34m\u001b[0m\u001b[0m\n\u001b[0m\u001b[1;32m     38\u001b[0m \u001b[0;32mdel\u001b[0m \u001b[0m_core\u001b[0m\u001b[0;34m\u001b[0m\u001b[0;34m\u001b[0m\u001b[0m\n\u001b[1;32m     39\u001b[0m \u001b[0;34m\u001b[0m\u001b[0m\n",
            "\u001b[0;32m/usr/local/lib/python3.11/dist-packages/jax/core.py\u001b[0m in \u001b[0;36m<module>\u001b[0;34m\u001b[0m\n\u001b[1;32m     16\u001b[0m \u001b[0;31m# See PEP 484 & https://github.com/jax-ml/jax/issues/7570\u001b[0m\u001b[0;34m\u001b[0m\u001b[0;34m\u001b[0m\u001b[0m\n\u001b[1;32m     17\u001b[0m \u001b[0;34m\u001b[0m\u001b[0m\n\u001b[0;32m---> 18\u001b[0;31m from jax._src.core import (\n\u001b[0m\u001b[1;32m     19\u001b[0m   \u001b[0mAbstractToken\u001b[0m \u001b[0;32mas\u001b[0m \u001b[0mAbstractToken\u001b[0m\u001b[0;34m,\u001b[0m\u001b[0;34m\u001b[0m\u001b[0;34m\u001b[0m\u001b[0m\n\u001b[1;32m     20\u001b[0m   \u001b[0mAbstractValue\u001b[0m \u001b[0;32mas\u001b[0m \u001b[0mAbstractValue\u001b[0m\u001b[0;34m,\u001b[0m\u001b[0;34m\u001b[0m\u001b[0;34m\u001b[0m\u001b[0m\n",
            "\u001b[0;32m/usr/local/lib/python3.11/dist-packages/jax/_src/core.py\u001b[0m in \u001b[0;36m<module>\u001b[0;34m\u001b[0m\n\u001b[1;32m     39\u001b[0m \u001b[0;32mfrom\u001b[0m \u001b[0mjax\u001b[0m\u001b[0;34m.\u001b[0m\u001b[0m_src\u001b[0m \u001b[0;32mimport\u001b[0m \u001b[0meffects\u001b[0m\u001b[0;34m\u001b[0m\u001b[0;34m\u001b[0m\u001b[0m\n\u001b[1;32m     40\u001b[0m \u001b[0;32mfrom\u001b[0m \u001b[0mjax\u001b[0m\u001b[0;34m.\u001b[0m\u001b[0m_src\u001b[0m \u001b[0;32mimport\u001b[0m \u001b[0mcompute_on\u001b[0m\u001b[0;34m\u001b[0m\u001b[0;34m\u001b[0m\u001b[0m\n\u001b[0;32m---> 41\u001b[0;31m \u001b[0;32mfrom\u001b[0m \u001b[0mjax\u001b[0m\u001b[0;34m.\u001b[0m\u001b[0m_src\u001b[0m \u001b[0;32mimport\u001b[0m \u001b[0mmesh\u001b[0m \u001b[0;32mas\u001b[0m \u001b[0mmesh_lib\u001b[0m\u001b[0;34m\u001b[0m\u001b[0;34m\u001b[0m\u001b[0m\n\u001b[0m\u001b[1;32m     42\u001b[0m \u001b[0;32mfrom\u001b[0m \u001b[0mjax\u001b[0m\u001b[0;34m.\u001b[0m\u001b[0m_src\u001b[0m\u001b[0;34m.\u001b[0m\u001b[0mpartition_spec\u001b[0m \u001b[0;32mimport\u001b[0m \u001b[0mPartitionSpec\u001b[0m \u001b[0;32mas\u001b[0m \u001b[0mP\u001b[0m\u001b[0;34m,\u001b[0m \u001b[0mUnconstrainedSingleton\u001b[0m\u001b[0;34m\u001b[0m\u001b[0;34m\u001b[0m\u001b[0m\n\u001b[1;32m     43\u001b[0m from jax._src.errors import (\n",
            "\u001b[0;32m/usr/local/lib/python3.11/dist-packages/jax/_src/mesh.py\u001b[0m in \u001b[0;36m<module>\u001b[0;34m\u001b[0m\n\u001b[1;32m     28\u001b[0m \u001b[0;34m\u001b[0m\u001b[0m\n\u001b[1;32m     29\u001b[0m \u001b[0;32mfrom\u001b[0m \u001b[0mjax\u001b[0m\u001b[0;34m.\u001b[0m\u001b[0m_src\u001b[0m \u001b[0;32mimport\u001b[0m \u001b[0mconfig\u001b[0m \u001b[0;32mas\u001b[0m \u001b[0mjax_config\u001b[0m\u001b[0;34m\u001b[0m\u001b[0;34m\u001b[0m\u001b[0m\n\u001b[0;32m---> 30\u001b[0;31m \u001b[0;32mfrom\u001b[0m \u001b[0mjax\u001b[0m\u001b[0;34m.\u001b[0m\u001b[0m_src\u001b[0m \u001b[0;32mimport\u001b[0m \u001b[0mxla_bridge\u001b[0m \u001b[0;32mas\u001b[0m \u001b[0mxb\u001b[0m\u001b[0;34m\u001b[0m\u001b[0;34m\u001b[0m\u001b[0m\n\u001b[0m\u001b[1;32m     31\u001b[0m \u001b[0;32mfrom\u001b[0m \u001b[0mjax\u001b[0m\u001b[0;34m.\u001b[0m\u001b[0m_src\u001b[0m \u001b[0;32mimport\u001b[0m \u001b[0mutil\u001b[0m\u001b[0;34m\u001b[0m\u001b[0;34m\u001b[0m\u001b[0m\n\u001b[1;32m     32\u001b[0m \u001b[0;32mfrom\u001b[0m \u001b[0mjax\u001b[0m\u001b[0;34m.\u001b[0m\u001b[0m_src\u001b[0m\u001b[0;34m.\u001b[0m\u001b[0mlib\u001b[0m \u001b[0;32mimport\u001b[0m \u001b[0mxla_client\u001b[0m \u001b[0;32mas\u001b[0m \u001b[0mxc\u001b[0m\u001b[0;34m\u001b[0m\u001b[0;34m\u001b[0m\u001b[0m\n",
            "\u001b[0;32m/usr/local/lib/python3.11/dist-packages/jax/_src/xla_bridge.py\u001b[0m in \u001b[0;36m<module>\u001b[0;34m\u001b[0m\n\u001b[1;32m     64\u001b[0m \u001b[0;34m\u001b[0m\u001b[0m\n\u001b[1;32m     65\u001b[0m \u001b[0;31m# TODO(phawkins): Remove jax_xla_backend.\u001b[0m\u001b[0;34m\u001b[0m\u001b[0;34m\u001b[0m\u001b[0m\n\u001b[0;32m---> 66\u001b[0;31m _XLA_BACKEND = config.string_flag(\n\u001b[0m\u001b[1;32m     67\u001b[0m     \u001b[0;34m'jax_xla_backend'\u001b[0m\u001b[0;34m,\u001b[0m \u001b[0;34m''\u001b[0m\u001b[0;34m,\u001b[0m\u001b[0;34m\u001b[0m\u001b[0;34m\u001b[0m\u001b[0m\n\u001b[1;32m     68\u001b[0m     'Deprecated, please use --jax_platforms instead.')\n",
            "\u001b[0;32m/usr/local/lib/python3.11/dist-packages/jax/_src/config.py\u001b[0m in \u001b[0;36mstring_flag\u001b[0;34m(name, default, *args, **kwargs)\u001b[0m\n\u001b[1;32m    824\u001b[0m \u001b[0;34m\u001b[0m\u001b[0m\n\u001b[1;32m    825\u001b[0m \u001b[0;31m# TODO(b/214340779): remove flag when XLA:CPU is improved.\u001b[0m\u001b[0;34m\u001b[0m\u001b[0;34m\u001b[0m\u001b[0m\n\u001b[0;32m--> 826\u001b[0;31m jax2tf_associative_scan_reductions = bool_state(\n\u001b[0m\u001b[1;32m    827\u001b[0m     \u001b[0mname\u001b[0m\u001b[0;34m=\u001b[0m\u001b[0;34m'jax2tf_associative_scan_reductions'\u001b[0m\u001b[0;34m,\u001b[0m\u001b[0;34m\u001b[0m\u001b[0;34m\u001b[0m\u001b[0m\n\u001b[1;32m    828\u001b[0m     \u001b[0mdefault\u001b[0m\u001b[0;34m=\u001b[0m\u001b[0;32mFalse\u001b[0m\u001b[0;34m,\u001b[0m\u001b[0;34m\u001b[0m\u001b[0;34m\u001b[0m\u001b[0m\n",
            "\u001b[0;32m/usr/local/lib/python3.11/dist-packages/jax/_src/config.py\u001b[0m in \u001b[0;36madd_option\u001b[0;34m(self, name, holder, opt_type, meta_args, meta_kwargs)\u001b[0m\n\u001b[1;32m    131\u001b[0m       \u001b[0mapp\u001b[0m\u001b[0;34m.\u001b[0m\u001b[0mrun\u001b[0m\u001b[0;34m(\u001b[0m\u001b[0mmain\u001b[0m\u001b[0;34m)\u001b[0m\u001b[0;34m\u001b[0m\u001b[0;34m\u001b[0m\u001b[0m\n\u001b[1;32m    132\u001b[0m     \u001b[0;31m`\u001b[0m\u001b[0;31m`\u001b[0m\u001b[0;31m`\u001b[0m\u001b[0;34m\u001b[0m\u001b[0;34m\u001b[0m\u001b[0m\n\u001b[0;32m--> 133\u001b[0;31m \u001b[0;34m\u001b[0m\u001b[0m\n\u001b[0m\u001b[1;32m    134\u001b[0m     \"\"\"\n\u001b[1;32m    135\u001b[0m     \u001b[0;32mimport\u001b[0m \u001b[0mabsl\u001b[0m\u001b[0;34m.\u001b[0m\u001b[0mflags\u001b[0m \u001b[0;32mas\u001b[0m \u001b[0mabsl_FLAGS\u001b[0m  \u001b[0;31m# noqa: F401  # pytype: disable=import-error\u001b[0m\u001b[0;34m\u001b[0m\u001b[0;34m\u001b[0m\u001b[0m\n",
            "\u001b[0;31mException\u001b[0m: Config option jax_xla_backend already defined"
          ]
        }
      ]
    },
    {
      "cell_type": "code",
      "source": [
        "# ✅ Solución completa: instala todas las dependencias necesarias en un solo paso\n",
        "# Esto ayuda a evitar conflictos de versiones\n",
        "!pip install -q -U transformers==4.35.2 gtts==2.5.1 numpy==1.24.4 jax[cpu]\n",
        "\n",
        "# %%\n",
        "import os\n",
        "# Set the JAX CPU collectives implementation environment variable\n",
        "# This might help prevent the 'Config option already defined' error\n",
        "# Ensure this is set BEFORE importing jax or libraries that depend on it\n",
        "os.environ['JAX_CPU_COLLECTIVES_IMPLEMENTATION'] = 'none'\n",
        "\n",
        "# Import all necessary libraries once at the beginning\n",
        "from transformers import pipeline\n",
        "from gtts import gTTS\n",
        "from IPython.display import Audio\n",
        "# os is already imported\n",
        "\n",
        "# %%\n",
        "# Ahora solo ejecuta el código que usa las librerías instaladas.\n",
        "# Note: The JAX_CPU_COLLECTIVES_IMPLEMENTATION environment variable is set at the beginning\n",
        "# of the notebook, which should persist across cells.\n",
        "\n",
        "# Traducir del español al alemán\n",
        "# El modelo Helsinki-NLP/opus-mt-es-de será descargado si no está ya en caché\n",
        "translator = pipeline(\"translation\", model=\"Helsinki-NLP/opus-mt-es-de\")\n",
        "texto_es = \"La inteligencia artificial es una herramienta poderosa y moderna.\"\n",
        "traduccion = translator(texto_es, max_length=512)[0]['translation_text']\n",
        "print(\"🔤 Traducción al alemán:\", traduccion)\n",
        "\n",
        "# Generar voz con gTTS\n",
        "tts = gTTS(text=traduccion, lang=\"de\")\n",
        "tts.save(\"voz_aleman.mp3\")\n",
        "\n",
        "# Reproducir audio directamente\n",
        "# Reproduce el archivo MP3 guardado\n",
        "Audio(\"voz_aleman.mp3\")\n",
        "\n",
        "# %%\n",
        "# Se eliminan las celdas de instalación redundantes y las celdas con imports repetidos\n",
        "# para mantener el entorno limpio y consistente.\n",
        "# Si necesitas reinstalar, ejecuta la primera celda de nuevo.\n",
        "\n",
        "# Note: The code from the original third and fourth cells (after the first two)\n",
        "# has been integrated into the cell above this comment to ensure imports are not repeated."
      ],
      "metadata": {
        "colab": {
          "base_uri": "https://localhost:8080/",
          "height": 356
        },
        "id": "bCnm1RlJ9CCk",
        "outputId": "8cf39454-15d0-4247-96c6-1de1cd042bfd"
      },
      "execution_count": 5,
      "outputs": [
        {
          "output_type": "error",
          "ename": "Exception",
          "evalue": "Config option jax_xla_backend already defined",
          "traceback": [
            "\u001b[0;31m---------------------------------------------------------------------------\u001b[0m",
            "\u001b[0;31mException\u001b[0m                                 Traceback (most recent call last)",
            "\u001b[0;32m/tmp/ipython-input-5-2049167224.py\u001b[0m in \u001b[0;36m<cell line: 0>\u001b[0;34m()\u001b[0m\n\u001b[1;32m     11\u001b[0m \u001b[0;34m\u001b[0m\u001b[0m\n\u001b[1;32m     12\u001b[0m \u001b[0;31m# Import all necessary libraries once at the beginning\u001b[0m\u001b[0;34m\u001b[0m\u001b[0;34m\u001b[0m\u001b[0m\n\u001b[0;32m---> 13\u001b[0;31m \u001b[0;32mfrom\u001b[0m \u001b[0mtransformers\u001b[0m \u001b[0;32mimport\u001b[0m \u001b[0mpipeline\u001b[0m\u001b[0;34m\u001b[0m\u001b[0;34m\u001b[0m\u001b[0m\n\u001b[0m\u001b[1;32m     14\u001b[0m \u001b[0;32mfrom\u001b[0m \u001b[0mgtts\u001b[0m \u001b[0;32mimport\u001b[0m \u001b[0mgTTS\u001b[0m\u001b[0;34m\u001b[0m\u001b[0;34m\u001b[0m\u001b[0m\n\u001b[1;32m     15\u001b[0m \u001b[0;32mfrom\u001b[0m \u001b[0mIPython\u001b[0m\u001b[0;34m.\u001b[0m\u001b[0mdisplay\u001b[0m \u001b[0;32mimport\u001b[0m \u001b[0mAudio\u001b[0m\u001b[0;34m\u001b[0m\u001b[0;34m\u001b[0m\u001b[0m\n",
            "\u001b[0;32m/usr/local/lib/python3.11/dist-packages/transformers/__init__.py\u001b[0m in \u001b[0;36m<module>\u001b[0;34m\u001b[0m\n\u001b[1;32m     24\u001b[0m \u001b[0;34m\u001b[0m\u001b[0m\n\u001b[1;32m     25\u001b[0m \u001b[0;31m# Check the dependencies satisfy the minimal versions required.\u001b[0m\u001b[0;34m\u001b[0m\u001b[0;34m\u001b[0m\u001b[0m\n\u001b[0;32m---> 26\u001b[0;31m \u001b[0;32mfrom\u001b[0m \u001b[0;34m.\u001b[0m \u001b[0;32mimport\u001b[0m \u001b[0mdependency_versions_check\u001b[0m\u001b[0;34m\u001b[0m\u001b[0;34m\u001b[0m\u001b[0m\n\u001b[0m\u001b[1;32m     27\u001b[0m from .utils import (\n\u001b[1;32m     28\u001b[0m     \u001b[0mOptionalDependencyNotAvailable\u001b[0m\u001b[0;34m,\u001b[0m\u001b[0;34m\u001b[0m\u001b[0;34m\u001b[0m\u001b[0m\n",
            "\u001b[0;32m/usr/local/lib/python3.11/dist-packages/transformers/dependency_versions_check.py\u001b[0m in \u001b[0;36m<module>\u001b[0;34m\u001b[0m\n\u001b[1;32m     14\u001b[0m \u001b[0;34m\u001b[0m\u001b[0m\n\u001b[1;32m     15\u001b[0m \u001b[0;32mfrom\u001b[0m \u001b[0;34m.\u001b[0m\u001b[0mdependency_versions_table\u001b[0m \u001b[0;32mimport\u001b[0m \u001b[0mdeps\u001b[0m\u001b[0;34m\u001b[0m\u001b[0;34m\u001b[0m\u001b[0m\n\u001b[0;32m---> 16\u001b[0;31m \u001b[0;32mfrom\u001b[0m \u001b[0;34m.\u001b[0m\u001b[0mutils\u001b[0m\u001b[0;34m.\u001b[0m\u001b[0mversions\u001b[0m \u001b[0;32mimport\u001b[0m \u001b[0mrequire_version\u001b[0m\u001b[0;34m,\u001b[0m \u001b[0mrequire_version_core\u001b[0m\u001b[0;34m\u001b[0m\u001b[0;34m\u001b[0m\u001b[0m\n\u001b[0m\u001b[1;32m     17\u001b[0m \u001b[0;34m\u001b[0m\u001b[0m\n\u001b[1;32m     18\u001b[0m \u001b[0;34m\u001b[0m\u001b[0m\n",
            "\u001b[0;32m/usr/local/lib/python3.11/dist-packages/transformers/utils/__init__.py\u001b[0m in \u001b[0;36m<module>\u001b[0;34m\u001b[0m\n\u001b[1;32m     29\u001b[0m     \u001b[0mreplace_return_docstrings\u001b[0m\u001b[0;34m,\u001b[0m\u001b[0;34m\u001b[0m\u001b[0;34m\u001b[0m\u001b[0m\n\u001b[1;32m     30\u001b[0m )\n\u001b[0;32m---> 31\u001b[0;31m from .generic import (\n\u001b[0m\u001b[1;32m     32\u001b[0m     \u001b[0mContextManagers\u001b[0m\u001b[0;34m,\u001b[0m\u001b[0;34m\u001b[0m\u001b[0;34m\u001b[0m\u001b[0m\n\u001b[1;32m     33\u001b[0m     \u001b[0mExplicitEnum\u001b[0m\u001b[0;34m,\u001b[0m\u001b[0;34m\u001b[0m\u001b[0;34m\u001b[0m\u001b[0m\n",
            "\u001b[0;32m/usr/local/lib/python3.11/dist-packages/transformers/utils/generic.py\u001b[0m in \u001b[0;36m<module>\u001b[0;34m\u001b[0m\n\u001b[1;32m     31\u001b[0m \u001b[0;34m\u001b[0m\u001b[0m\n\u001b[1;32m     32\u001b[0m \u001b[0;32mif\u001b[0m \u001b[0mis_flax_available\u001b[0m\u001b[0;34m(\u001b[0m\u001b[0;34m)\u001b[0m\u001b[0;34m:\u001b[0m\u001b[0;34m\u001b[0m\u001b[0;34m\u001b[0m\u001b[0m\n\u001b[0;32m---> 33\u001b[0;31m     \u001b[0;32mimport\u001b[0m \u001b[0mjax\u001b[0m\u001b[0;34m.\u001b[0m\u001b[0mnumpy\u001b[0m \u001b[0;32mas\u001b[0m \u001b[0mjnp\u001b[0m\u001b[0;34m\u001b[0m\u001b[0;34m\u001b[0m\u001b[0m\n\u001b[0m\u001b[1;32m     34\u001b[0m \u001b[0;34m\u001b[0m\u001b[0m\n\u001b[1;32m     35\u001b[0m \u001b[0;34m\u001b[0m\u001b[0m\n",
            "\u001b[0;32m/usr/local/lib/python3.11/dist-packages/jax/__init__.py\u001b[0m in \u001b[0;36m<module>\u001b[0;34m\u001b[0m\n\u001b[1;32m     35\u001b[0m \u001b[0;34m\u001b[0m\u001b[0m\n\u001b[1;32m     36\u001b[0m \u001b[0;31m# Force early import, allowing use of `jax.core` after importing `jax`.\u001b[0m\u001b[0;34m\u001b[0m\u001b[0;34m\u001b[0m\u001b[0m\n\u001b[0;32m---> 37\u001b[0;31m \u001b[0;32mimport\u001b[0m \u001b[0mjax\u001b[0m\u001b[0;34m.\u001b[0m\u001b[0mcore\u001b[0m \u001b[0;32mas\u001b[0m \u001b[0m_core\u001b[0m\u001b[0;34m\u001b[0m\u001b[0;34m\u001b[0m\u001b[0m\n\u001b[0m\u001b[1;32m     38\u001b[0m \u001b[0;32mdel\u001b[0m \u001b[0m_core\u001b[0m\u001b[0;34m\u001b[0m\u001b[0;34m\u001b[0m\u001b[0m\n\u001b[1;32m     39\u001b[0m \u001b[0;34m\u001b[0m\u001b[0m\n",
            "\u001b[0;32m/usr/local/lib/python3.11/dist-packages/jax/core.py\u001b[0m in \u001b[0;36m<module>\u001b[0;34m\u001b[0m\n\u001b[1;32m     16\u001b[0m \u001b[0;31m# See PEP 484 & https://github.com/jax-ml/jax/issues/7570\u001b[0m\u001b[0;34m\u001b[0m\u001b[0;34m\u001b[0m\u001b[0m\n\u001b[1;32m     17\u001b[0m \u001b[0;34m\u001b[0m\u001b[0m\n\u001b[0;32m---> 18\u001b[0;31m from jax._src.core import (\n\u001b[0m\u001b[1;32m     19\u001b[0m   \u001b[0mAbstractToken\u001b[0m \u001b[0;32mas\u001b[0m \u001b[0mAbstractToken\u001b[0m\u001b[0;34m,\u001b[0m\u001b[0;34m\u001b[0m\u001b[0;34m\u001b[0m\u001b[0m\n\u001b[1;32m     20\u001b[0m   \u001b[0mAbstractValue\u001b[0m \u001b[0;32mas\u001b[0m \u001b[0mAbstractValue\u001b[0m\u001b[0;34m,\u001b[0m\u001b[0;34m\u001b[0m\u001b[0;34m\u001b[0m\u001b[0m\n",
            "\u001b[0;32m/usr/local/lib/python3.11/dist-packages/jax/_src/core.py\u001b[0m in \u001b[0;36m<module>\u001b[0;34m\u001b[0m\n\u001b[1;32m     39\u001b[0m \u001b[0;32mfrom\u001b[0m \u001b[0mjax\u001b[0m\u001b[0;34m.\u001b[0m\u001b[0m_src\u001b[0m \u001b[0;32mimport\u001b[0m \u001b[0meffects\u001b[0m\u001b[0;34m\u001b[0m\u001b[0;34m\u001b[0m\u001b[0m\n\u001b[1;32m     40\u001b[0m \u001b[0;32mfrom\u001b[0m \u001b[0mjax\u001b[0m\u001b[0;34m.\u001b[0m\u001b[0m_src\u001b[0m \u001b[0;32mimport\u001b[0m \u001b[0mcompute_on\u001b[0m\u001b[0;34m\u001b[0m\u001b[0;34m\u001b[0m\u001b[0m\n\u001b[0;32m---> 41\u001b[0;31m \u001b[0;32mfrom\u001b[0m \u001b[0mjax\u001b[0m\u001b[0;34m.\u001b[0m\u001b[0m_src\u001b[0m \u001b[0;32mimport\u001b[0m \u001b[0mmesh\u001b[0m \u001b[0;32mas\u001b[0m \u001b[0mmesh_lib\u001b[0m\u001b[0;34m\u001b[0m\u001b[0;34m\u001b[0m\u001b[0m\n\u001b[0m\u001b[1;32m     42\u001b[0m \u001b[0;32mfrom\u001b[0m \u001b[0mjax\u001b[0m\u001b[0;34m.\u001b[0m\u001b[0m_src\u001b[0m\u001b[0;34m.\u001b[0m\u001b[0mpartition_spec\u001b[0m \u001b[0;32mimport\u001b[0m \u001b[0mPartitionSpec\u001b[0m \u001b[0;32mas\u001b[0m \u001b[0mP\u001b[0m\u001b[0;34m,\u001b[0m \u001b[0mUnconstrainedSingleton\u001b[0m\u001b[0;34m\u001b[0m\u001b[0;34m\u001b[0m\u001b[0m\n\u001b[1;32m     43\u001b[0m from jax._src.errors import (\n",
            "\u001b[0;32m/usr/local/lib/python3.11/dist-packages/jax/_src/mesh.py\u001b[0m in \u001b[0;36m<module>\u001b[0;34m\u001b[0m\n\u001b[1;32m     28\u001b[0m \u001b[0;34m\u001b[0m\u001b[0m\n\u001b[1;32m     29\u001b[0m \u001b[0;32mfrom\u001b[0m \u001b[0mjax\u001b[0m\u001b[0;34m.\u001b[0m\u001b[0m_src\u001b[0m \u001b[0;32mimport\u001b[0m \u001b[0mconfig\u001b[0m \u001b[0;32mas\u001b[0m \u001b[0mjax_config\u001b[0m\u001b[0;34m\u001b[0m\u001b[0;34m\u001b[0m\u001b[0m\n\u001b[0;32m---> 30\u001b[0;31m \u001b[0;32mfrom\u001b[0m \u001b[0mjax\u001b[0m\u001b[0;34m.\u001b[0m\u001b[0m_src\u001b[0m \u001b[0;32mimport\u001b[0m \u001b[0mxla_bridge\u001b[0m \u001b[0;32mas\u001b[0m \u001b[0mxb\u001b[0m\u001b[0;34m\u001b[0m\u001b[0;34m\u001b[0m\u001b[0m\n\u001b[0m\u001b[1;32m     31\u001b[0m \u001b[0;32mfrom\u001b[0m \u001b[0mjax\u001b[0m\u001b[0;34m.\u001b[0m\u001b[0m_src\u001b[0m \u001b[0;32mimport\u001b[0m \u001b[0mutil\u001b[0m\u001b[0;34m\u001b[0m\u001b[0;34m\u001b[0m\u001b[0m\n\u001b[1;32m     32\u001b[0m \u001b[0;32mfrom\u001b[0m \u001b[0mjax\u001b[0m\u001b[0;34m.\u001b[0m\u001b[0m_src\u001b[0m\u001b[0;34m.\u001b[0m\u001b[0mlib\u001b[0m \u001b[0;32mimport\u001b[0m \u001b[0mxla_client\u001b[0m \u001b[0;32mas\u001b[0m \u001b[0mxc\u001b[0m\u001b[0;34m\u001b[0m\u001b[0;34m\u001b[0m\u001b[0m\n",
            "\u001b[0;32m/usr/local/lib/python3.11/dist-packages/jax/_src/xla_bridge.py\u001b[0m in \u001b[0;36m<module>\u001b[0;34m\u001b[0m\n\u001b[1;32m     64\u001b[0m \u001b[0;34m\u001b[0m\u001b[0m\n\u001b[1;32m     65\u001b[0m \u001b[0;31m# TODO(phawkins): Remove jax_xla_backend.\u001b[0m\u001b[0;34m\u001b[0m\u001b[0;34m\u001b[0m\u001b[0m\n\u001b[0;32m---> 66\u001b[0;31m _XLA_BACKEND = config.string_flag(\n\u001b[0m\u001b[1;32m     67\u001b[0m     \u001b[0;34m'jax_xla_backend'\u001b[0m\u001b[0;34m,\u001b[0m \u001b[0;34m''\u001b[0m\u001b[0;34m,\u001b[0m\u001b[0;34m\u001b[0m\u001b[0;34m\u001b[0m\u001b[0m\n\u001b[1;32m     68\u001b[0m     'Deprecated, please use --jax_platforms instead.')\n",
            "\u001b[0;32m/usr/local/lib/python3.11/dist-packages/jax/_src/config.py\u001b[0m in \u001b[0;36mstring_flag\u001b[0;34m(name, default, *args, **kwargs)\u001b[0m\n\u001b[1;32m    824\u001b[0m \u001b[0;34m\u001b[0m\u001b[0m\n\u001b[1;32m    825\u001b[0m \u001b[0;31m# TODO(b/214340779): remove flag when XLA:CPU is improved.\u001b[0m\u001b[0;34m\u001b[0m\u001b[0;34m\u001b[0m\u001b[0m\n\u001b[0;32m--> 826\u001b[0;31m jax2tf_associative_scan_reductions = bool_state(\n\u001b[0m\u001b[1;32m    827\u001b[0m     \u001b[0mname\u001b[0m\u001b[0;34m=\u001b[0m\u001b[0;34m'jax2tf_associative_scan_reductions'\u001b[0m\u001b[0;34m,\u001b[0m\u001b[0;34m\u001b[0m\u001b[0;34m\u001b[0m\u001b[0m\n\u001b[1;32m    828\u001b[0m     \u001b[0mdefault\u001b[0m\u001b[0;34m=\u001b[0m\u001b[0;32mFalse\u001b[0m\u001b[0;34m,\u001b[0m\u001b[0;34m\u001b[0m\u001b[0;34m\u001b[0m\u001b[0m\n",
            "\u001b[0;32m/usr/local/lib/python3.11/dist-packages/jax/_src/config.py\u001b[0m in \u001b[0;36madd_option\u001b[0;34m(self, name, holder, opt_type, meta_args, meta_kwargs)\u001b[0m\n\u001b[1;32m    131\u001b[0m       \u001b[0mapp\u001b[0m\u001b[0;34m.\u001b[0m\u001b[0mrun\u001b[0m\u001b[0;34m(\u001b[0m\u001b[0mmain\u001b[0m\u001b[0;34m)\u001b[0m\u001b[0;34m\u001b[0m\u001b[0;34m\u001b[0m\u001b[0m\n\u001b[1;32m    132\u001b[0m     \u001b[0;31m`\u001b[0m\u001b[0;31m`\u001b[0m\u001b[0;31m`\u001b[0m\u001b[0;34m\u001b[0m\u001b[0;34m\u001b[0m\u001b[0m\n\u001b[0;32m--> 133\u001b[0;31m \u001b[0;34m\u001b[0m\u001b[0m\n\u001b[0m\u001b[1;32m    134\u001b[0m     \"\"\"\n\u001b[1;32m    135\u001b[0m     \u001b[0;32mimport\u001b[0m \u001b[0mabsl\u001b[0m\u001b[0;34m.\u001b[0m\u001b[0mflags\u001b[0m \u001b[0;32mas\u001b[0m \u001b[0mabsl_FLAGS\u001b[0m  \u001b[0;31m# noqa: F401  # pytype: disable=import-error\u001b[0m\u001b[0;34m\u001b[0m\u001b[0;34m\u001b[0m\u001b[0m\n",
            "\u001b[0;31mException\u001b[0m: Config option jax_xla_backend already defined"
          ]
        }
      ]
    },
    {
      "cell_type": "code",
      "source": [
        "# instala todas las dependencias necesarias en un solo paso\n",
        "\n",
        "!pip install -q -U transformers==4.35.2 gtts==2.5.1 numpy==1.24.4 jax[cpu]\n",
        "\n",
        "# %%\n",
        "import os\n",
        "\n",
        "os.environ['JAX_CPU_COLLECTIVES_IMPLEMENTATION'] = 'none'\n",
        "\n",
        "# Import all necessary libraries once at the beginning\n",
        "from transformers import pipeline\n",
        "from gtts import gTTS\n",
        "from IPython.display import Audio\n",
        "# os is already imported\n",
        "\n",
        "# Traducir del español al alemán\n",
        "# El modelo Helsinki-NLP/opus-mt-es-de será descargado si no está ya en caché\n",
        "translator = pipeline(\"translation\", model=\"Helsinki-NLP/opus-mt-es-de\")\n",
        "texto_es = \"La inteligencia artificial es una herramienta poderosa y moderna.\"\n",
        "traduccion = translator(texto_es, max_length=512)[0]['translation_text']\n",
        "print(\"🔤 Traducción al alemán:\", traduccion)\n",
        "\n",
        "# Generar voz con gTTS\n",
        "tts = gTTS(text=traduccion, lang=\"de\")\n",
        "tts.save(\"voz_aleman.mp3\")\n",
        "\n",
        "# Reproducir audio directamente\n",
        "# Reproduce el archivo MP3 guardado\n",
        "Audio(\"voz_aleman.mp3\")\n",
        "\n"
      ],
      "metadata": {
        "colab": {
          "base_uri": "https://localhost:8080/",
          "height": 405,
          "referenced_widgets": [
            "2a01708560c04534997efaf7ff93cd3c",
            "2902a7ada09d4f6a98d0255e944221d3",
            "2ad4361a599748b984e634f7f39094bd",
            "a93ab93f6fc64742911289a4f914c473",
            "03e045b0590a46a7b3a5411dc1c9a738",
            "91f777689c1e4110baf17fc556462e25",
            "c6922c7b48314217840faedcfedcfdfe",
            "32e8a6236409447890aec239b42bd88f",
            "924cc4fd4f59470c9e97022e42c49fca",
            "98fade17bbde4da18bc9afbad7424b15",
            "5885beed24ce4f278c63ad6c015e68a5"
          ]
        },
        "id": "a77gdFEj-DFn",
        "outputId": "eb7340dd-5ad3-4627-8e5e-beff76a2e46c"
      },
      "execution_count": 1,
      "outputs": [
        {
          "output_type": "stream",
          "name": "stderr",
          "text": [
            "/usr/local/lib/python3.11/dist-packages/transformers/utils/generic.py:441: FutureWarning: `torch.utils._pytree._register_pytree_node` is deprecated. Please use `torch.utils._pytree.register_pytree_node` instead.\n",
            "  _torch_pytree._register_pytree_node(\n",
            "The cache for model files in Transformers v4.22.0 has been updated. Migrating your old cache. This is a one-time only operation. You can interrupt this and resume the migration later on by calling `transformers.utils.move_cache()`.\n"
          ]
        },
        {
          "output_type": "display_data",
          "data": {
            "text/plain": [
              "0it [00:00, ?it/s]"
            ],
            "application/vnd.jupyter.widget-view+json": {
              "version_major": 2,
              "version_minor": 0,
              "model_id": "2a01708560c04534997efaf7ff93cd3c"
            }
          },
          "metadata": {}
        },
        {
          "output_type": "stream",
          "name": "stderr",
          "text": [
            "/usr/local/lib/python3.11/dist-packages/transformers/utils/generic.py:309: FutureWarning: `torch.utils._pytree._register_pytree_node` is deprecated. Please use `torch.utils._pytree.register_pytree_node` instead.\n",
            "  _torch_pytree._register_pytree_node(\n",
            "/usr/local/lib/python3.11/dist-packages/huggingface_hub/file_download.py:943: FutureWarning: `resume_download` is deprecated and will be removed in version 1.0.0. Downloads always resume when possible. If you want to force a new download, use `force_download=True`.\n",
            "  warnings.warn(\n",
            "/usr/local/lib/python3.11/dist-packages/huggingface_hub/utils/_auth.py:94: UserWarning: \n",
            "The secret `HF_TOKEN` does not exist in your Colab secrets.\n",
            "To authenticate with the Hugging Face Hub, create a token in your settings tab (https://huggingface.co/settings/tokens), set it as secret in your Google Colab and restart your session.\n",
            "You will be able to reuse this secret in all of your notebooks.\n",
            "Please note that authentication is recommended but still optional to access public models or datasets.\n",
            "  warnings.warn(\n",
            "/usr/local/lib/python3.11/dist-packages/transformers/models/marian/tokenization_marian.py:197: UserWarning: Recommended: pip install sacremoses.\n",
            "  warnings.warn(\"Recommended: pip install sacremoses.\")\n"
          ]
        },
        {
          "output_type": "stream",
          "name": "stdout",
          "text": [
            "🔤 Traducción al alemán: Künstliche Intelligenz ist ein mächtiges und modernes Werkzeug.\n"
          ]
        },
        {
          "output_type": "execute_result",
          "data": {
            "text/plain": [
              "<IPython.lib.display.Audio object>"
            ],
            "text/html": [
              "\n",
              "                <audio  controls=\"controls\" >\n",
              "                    <source src=\"data:audio/mpeg;base64,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\" type=\"audio/mpeg\" />\n",
              "                    Your browser does not support the audio element.\n",
              "                </audio>\n",
              "              "
            ]
          },
          "metadata": {},
          "execution_count": 1
        }
      ]
    },
    {
      "cell_type": "code",
      "source": [
        "from google.colab import files\n",
        "files.download(\"voz_aleman.mp3\")\n"
      ],
      "metadata": {
        "colab": {
          "base_uri": "https://localhost:8080/",
          "height": 17
        },
        "id": "gb4dmOwr-5lD",
        "outputId": "0d6fc0dd-ac35-4c25-bab5-58b22a6804b8"
      },
      "execution_count": 2,
      "outputs": [
        {
          "output_type": "display_data",
          "data": {
            "text/plain": [
              "<IPython.core.display.Javascript object>"
            ],
            "application/javascript": [
              "\n",
              "    async function download(id, filename, size) {\n",
              "      if (!google.colab.kernel.accessAllowed) {\n",
              "        return;\n",
              "      }\n",
              "      const div = document.createElement('div');\n",
              "      const label = document.createElement('label');\n",
              "      label.textContent = `Downloading \"${filename}\": `;\n",
              "      div.appendChild(label);\n",
              "      const progress = document.createElement('progress');\n",
              "      progress.max = size;\n",
              "      div.appendChild(progress);\n",
              "      document.body.appendChild(div);\n",
              "\n",
              "      const buffers = [];\n",
              "      let downloaded = 0;\n",
              "\n",
              "      const channel = await google.colab.kernel.comms.open(id);\n",
              "      // Send a message to notify the kernel that we're ready.\n",
              "      channel.send({})\n",
              "\n",
              "      for await (const message of channel.messages) {\n",
              "        // Send a message to notify the kernel that we're ready.\n",
              "        channel.send({})\n",
              "        if (message.buffers) {\n",
              "          for (const buffer of message.buffers) {\n",
              "            buffers.push(buffer);\n",
              "            downloaded += buffer.byteLength;\n",
              "            progress.value = downloaded;\n",
              "          }\n",
              "        }\n",
              "      }\n",
              "      const blob = new Blob(buffers, {type: 'application/binary'});\n",
              "      const a = document.createElement('a');\n",
              "      a.href = window.URL.createObjectURL(blob);\n",
              "      a.download = filename;\n",
              "      div.appendChild(a);\n",
              "      a.click();\n",
              "      div.remove();\n",
              "    }\n",
              "  "
            ]
          },
          "metadata": {}
        },
        {
          "output_type": "display_data",
          "data": {
            "text/plain": [
              "<IPython.core.display.Javascript object>"
            ],
            "application/javascript": [
              "download(\"download_6d2e4ea9-00c6-412a-b1ea-4997cb1972dd\", \"voz_aleman.mp3\", 39168)"
            ]
          },
          "metadata": {}
        }
      ]
    }
  ]
}