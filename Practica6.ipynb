{
  "nbformat": 4,
  "nbformat_minor": 0,
  "metadata": {
    "colab": {
      "provenance": [],
      "include_colab_link": true
    },
    "kernelspec": {
      "name": "python3",
      "display_name": "Python 3"
    },
    "language_info": {
      "name": "python"
    }
  },
  "cells": [
    {
      "cell_type": "markdown",
      "metadata": {
        "id": "view-in-github",
        "colab_type": "text"
      },
      "source": [
        "<a href=\"https://colab.research.google.com/github/atortosalopez/practica-1-aapl/blob/main/Practica6.ipynb\" target=\"_parent\"><img src=\"https://colab.research.google.com/assets/colab-badge.svg\" alt=\"Open In Colab\"/></a>"
      ]
    },
    {
      "cell_type": "markdown",
      "source": [
        "# Practica 6\n",
        "### Introducción\n",
        "En este conjunto de ejercicios trabajaremos con el conjunto de datos de vinos (Wine Reviews dataset).\n",
        "Ejecuta la siguiente celda para cargar tus datos y algunas funciones de utilidad."
      ],
      "metadata": {
        "id": "bjgtXmoOc6f1"
      }
    },
    {
      "cell_type": "code",
      "execution_count": 4,
      "metadata": {
        "id": "EVsZWXTqc2VC",
        "outputId": "930309ba-29b4-4473-85c0-94b70603a073",
        "colab": {
          "base_uri": "https://localhost:8080/"
        }
      },
      "outputs": [
        {
          "output_type": "stream",
          "name": "stdout",
          "text": [
            "Setup complete.\n"
          ]
        }
      ],
      "source": [
        "import pandas as pd\n",
        "\n",
        "reviews = pd.read_csv(\"winemag-data_first150k.csv\", index_col=0)\n",
        "pd.set_option(\"display.max_rows\", 5)\n",
        "print(\"Setup complete.\")"
      ]
    },
    {
      "cell_type": "markdown",
      "source": [
        "Veamos las primeras lineas de nuestro archivo:"
      ],
      "metadata": {
        "id": "IIOH2B_ChT03"
      }
    },
    {
      "cell_type": "code",
      "source": [
        "reviews.head()\n"
      ],
      "metadata": {
        "id": "YOrFmyvqc6Qk",
        "outputId": "4d9ab99e-bab7-4ea2-cc3c-403ef97868ec",
        "colab": {
          "base_uri": "https://localhost:8080/",
          "height": 206
        }
      },
      "execution_count": 5,
      "outputs": [
        {
          "output_type": "execute_result",
          "data": {
            "text/plain": [
              "  country                                        description  \\\n",
              "0      US  This tremendous 100% varietal wine hails from ...   \n",
              "1   Spain  Ripe aromas of fig, blackberry and cassis are ...   \n",
              "2      US  Mac Watson honors the memory of a wine once ma...   \n",
              "3      US  This spent 20 months in 30% new French oak, an...   \n",
              "4  France  This is the top wine from La Bégude, named aft...   \n",
              "\n",
              "                            designation  points  price        province  \\\n",
              "0                     Martha's Vineyard      96  235.0      California   \n",
              "1  Carodorum Selección Especial Reserva      96  110.0  Northern Spain   \n",
              "2         Special Selected Late Harvest      96   90.0      California   \n",
              "3                               Reserve      96   65.0          Oregon   \n",
              "4                            La Brûlade      95   66.0        Provence   \n",
              "\n",
              "            region_1           region_2             variety  \\\n",
              "0        Napa Valley               Napa  Cabernet Sauvignon   \n",
              "1               Toro                NaN       Tinta de Toro   \n",
              "2     Knights Valley             Sonoma     Sauvignon Blanc   \n",
              "3  Willamette Valley  Willamette Valley          Pinot Noir   \n",
              "4             Bandol                NaN  Provence red blend   \n",
              "\n",
              "                    winery  \n",
              "0                    Heitz  \n",
              "1  Bodega Carmen Rodríguez  \n",
              "2                 Macauley  \n",
              "3                    Ponzi  \n",
              "4     Domaine de la Bégude  "
            ],
            "text/html": [
              "\n",
              "  <div id=\"df-7571cf3c-79ba-489e-ba36-b0312a80272b\" class=\"colab-df-container\">\n",
              "    <div>\n",
              "<style scoped>\n",
              "    .dataframe tbody tr th:only-of-type {\n",
              "        vertical-align: middle;\n",
              "    }\n",
              "\n",
              "    .dataframe tbody tr th {\n",
              "        vertical-align: top;\n",
              "    }\n",
              "\n",
              "    .dataframe thead th {\n",
              "        text-align: right;\n",
              "    }\n",
              "</style>\n",
              "<table border=\"1\" class=\"dataframe\">\n",
              "  <thead>\n",
              "    <tr style=\"text-align: right;\">\n",
              "      <th></th>\n",
              "      <th>country</th>\n",
              "      <th>description</th>\n",
              "      <th>designation</th>\n",
              "      <th>points</th>\n",
              "      <th>price</th>\n",
              "      <th>province</th>\n",
              "      <th>region_1</th>\n",
              "      <th>region_2</th>\n",
              "      <th>variety</th>\n",
              "      <th>winery</th>\n",
              "    </tr>\n",
              "  </thead>\n",
              "  <tbody>\n",
              "    <tr>\n",
              "      <th>0</th>\n",
              "      <td>US</td>\n",
              "      <td>This tremendous 100% varietal wine hails from ...</td>\n",
              "      <td>Martha's Vineyard</td>\n",
              "      <td>96</td>\n",
              "      <td>235.0</td>\n",
              "      <td>California</td>\n",
              "      <td>Napa Valley</td>\n",
              "      <td>Napa</td>\n",
              "      <td>Cabernet Sauvignon</td>\n",
              "      <td>Heitz</td>\n",
              "    </tr>\n",
              "    <tr>\n",
              "      <th>1</th>\n",
              "      <td>Spain</td>\n",
              "      <td>Ripe aromas of fig, blackberry and cassis are ...</td>\n",
              "      <td>Carodorum Selección Especial Reserva</td>\n",
              "      <td>96</td>\n",
              "      <td>110.0</td>\n",
              "      <td>Northern Spain</td>\n",
              "      <td>Toro</td>\n",
              "      <td>NaN</td>\n",
              "      <td>Tinta de Toro</td>\n",
              "      <td>Bodega Carmen Rodríguez</td>\n",
              "    </tr>\n",
              "    <tr>\n",
              "      <th>2</th>\n",
              "      <td>US</td>\n",
              "      <td>Mac Watson honors the memory of a wine once ma...</td>\n",
              "      <td>Special Selected Late Harvest</td>\n",
              "      <td>96</td>\n",
              "      <td>90.0</td>\n",
              "      <td>California</td>\n",
              "      <td>Knights Valley</td>\n",
              "      <td>Sonoma</td>\n",
              "      <td>Sauvignon Blanc</td>\n",
              "      <td>Macauley</td>\n",
              "    </tr>\n",
              "    <tr>\n",
              "      <th>3</th>\n",
              "      <td>US</td>\n",
              "      <td>This spent 20 months in 30% new French oak, an...</td>\n",
              "      <td>Reserve</td>\n",
              "      <td>96</td>\n",
              "      <td>65.0</td>\n",
              "      <td>Oregon</td>\n",
              "      <td>Willamette Valley</td>\n",
              "      <td>Willamette Valley</td>\n",
              "      <td>Pinot Noir</td>\n",
              "      <td>Ponzi</td>\n",
              "    </tr>\n",
              "    <tr>\n",
              "      <th>4</th>\n",
              "      <td>France</td>\n",
              "      <td>This is the top wine from La Bégude, named aft...</td>\n",
              "      <td>La Brûlade</td>\n",
              "      <td>95</td>\n",
              "      <td>66.0</td>\n",
              "      <td>Provence</td>\n",
              "      <td>Bandol</td>\n",
              "      <td>NaN</td>\n",
              "      <td>Provence red blend</td>\n",
              "      <td>Domaine de la Bégude</td>\n",
              "    </tr>\n",
              "  </tbody>\n",
              "</table>\n",
              "</div>\n",
              "    <div class=\"colab-df-buttons\">\n",
              "\n",
              "  <div class=\"colab-df-container\">\n",
              "    <button class=\"colab-df-convert\" onclick=\"convertToInteractive('df-7571cf3c-79ba-489e-ba36-b0312a80272b')\"\n",
              "            title=\"Convert this dataframe to an interactive table.\"\n",
              "            style=\"display:none;\">\n",
              "\n",
              "  <svg xmlns=\"http://www.w3.org/2000/svg\" height=\"24px\" viewBox=\"0 -960 960 960\">\n",
              "    <path d=\"M120-120v-720h720v720H120Zm60-500h600v-160H180v160Zm220 220h160v-160H400v160Zm0 220h160v-160H400v160ZM180-400h160v-160H180v160Zm440 0h160v-160H620v160ZM180-180h160v-160H180v160Zm440 0h160v-160H620v160Z\"/>\n",
              "  </svg>\n",
              "    </button>\n",
              "\n",
              "  <style>\n",
              "    .colab-df-container {\n",
              "      display:flex;\n",
              "      gap: 12px;\n",
              "    }\n",
              "\n",
              "    .colab-df-convert {\n",
              "      background-color: #E8F0FE;\n",
              "      border: none;\n",
              "      border-radius: 50%;\n",
              "      cursor: pointer;\n",
              "      display: none;\n",
              "      fill: #1967D2;\n",
              "      height: 32px;\n",
              "      padding: 0 0 0 0;\n",
              "      width: 32px;\n",
              "    }\n",
              "\n",
              "    .colab-df-convert:hover {\n",
              "      background-color: #E2EBFA;\n",
              "      box-shadow: 0px 1px 2px rgba(60, 64, 67, 0.3), 0px 1px 3px 1px rgba(60, 64, 67, 0.15);\n",
              "      fill: #174EA6;\n",
              "    }\n",
              "\n",
              "    .colab-df-buttons div {\n",
              "      margin-bottom: 4px;\n",
              "    }\n",
              "\n",
              "    [theme=dark] .colab-df-convert {\n",
              "      background-color: #3B4455;\n",
              "      fill: #D2E3FC;\n",
              "    }\n",
              "\n",
              "    [theme=dark] .colab-df-convert:hover {\n",
              "      background-color: #434B5C;\n",
              "      box-shadow: 0px 1px 3px 1px rgba(0, 0, 0, 0.15);\n",
              "      filter: drop-shadow(0px 1px 2px rgba(0, 0, 0, 0.3));\n",
              "      fill: #FFFFFF;\n",
              "    }\n",
              "  </style>\n",
              "\n",
              "    <script>\n",
              "      const buttonEl =\n",
              "        document.querySelector('#df-7571cf3c-79ba-489e-ba36-b0312a80272b button.colab-df-convert');\n",
              "      buttonEl.style.display =\n",
              "        google.colab.kernel.accessAllowed ? 'block' : 'none';\n",
              "\n",
              "      async function convertToInteractive(key) {\n",
              "        const element = document.querySelector('#df-7571cf3c-79ba-489e-ba36-b0312a80272b');\n",
              "        const dataTable =\n",
              "          await google.colab.kernel.invokeFunction('convertToInteractive',\n",
              "                                                    [key], {});\n",
              "        if (!dataTable) return;\n",
              "\n",
              "        const docLinkHtml = 'Like what you see? Visit the ' +\n",
              "          '<a target=\"_blank\" href=https://colab.research.google.com/notebooks/data_table.ipynb>data table notebook</a>'\n",
              "          + ' to learn more about interactive tables.';\n",
              "        element.innerHTML = '';\n",
              "        dataTable['output_type'] = 'display_data';\n",
              "        await google.colab.output.renderOutput(dataTable, element);\n",
              "        const docLink = document.createElement('div');\n",
              "        docLink.innerHTML = docLinkHtml;\n",
              "        element.appendChild(docLink);\n",
              "      }\n",
              "    </script>\n",
              "  </div>\n",
              "\n",
              "\n",
              "<div id=\"df-27b2e134-aebe-4657-8588-9cdc9d8aec2b\">\n",
              "  <button class=\"colab-df-quickchart\" onclick=\"quickchart('df-27b2e134-aebe-4657-8588-9cdc9d8aec2b')\"\n",
              "            title=\"Suggest charts\"\n",
              "            style=\"display:none;\">\n",
              "\n",
              "<svg xmlns=\"http://www.w3.org/2000/svg\" height=\"24px\"viewBox=\"0 0 24 24\"\n",
              "     width=\"24px\">\n",
              "    <g>\n",
              "        <path d=\"M19 3H5c-1.1 0-2 .9-2 2v14c0 1.1.9 2 2 2h14c1.1 0 2-.9 2-2V5c0-1.1-.9-2-2-2zM9 17H7v-7h2v7zm4 0h-2V7h2v10zm4 0h-2v-4h2v4z\"/>\n",
              "    </g>\n",
              "</svg>\n",
              "  </button>\n",
              "\n",
              "<style>\n",
              "  .colab-df-quickchart {\n",
              "      --bg-color: #E8F0FE;\n",
              "      --fill-color: #1967D2;\n",
              "      --hover-bg-color: #E2EBFA;\n",
              "      --hover-fill-color: #174EA6;\n",
              "      --disabled-fill-color: #AAA;\n",
              "      --disabled-bg-color: #DDD;\n",
              "  }\n",
              "\n",
              "  [theme=dark] .colab-df-quickchart {\n",
              "      --bg-color: #3B4455;\n",
              "      --fill-color: #D2E3FC;\n",
              "      --hover-bg-color: #434B5C;\n",
              "      --hover-fill-color: #FFFFFF;\n",
              "      --disabled-bg-color: #3B4455;\n",
              "      --disabled-fill-color: #666;\n",
              "  }\n",
              "\n",
              "  .colab-df-quickchart {\n",
              "    background-color: var(--bg-color);\n",
              "    border: none;\n",
              "    border-radius: 50%;\n",
              "    cursor: pointer;\n",
              "    display: none;\n",
              "    fill: var(--fill-color);\n",
              "    height: 32px;\n",
              "    padding: 0;\n",
              "    width: 32px;\n",
              "  }\n",
              "\n",
              "  .colab-df-quickchart:hover {\n",
              "    background-color: var(--hover-bg-color);\n",
              "    box-shadow: 0 1px 2px rgba(60, 64, 67, 0.3), 0 1px 3px 1px rgba(60, 64, 67, 0.15);\n",
              "    fill: var(--button-hover-fill-color);\n",
              "  }\n",
              "\n",
              "  .colab-df-quickchart-complete:disabled,\n",
              "  .colab-df-quickchart-complete:disabled:hover {\n",
              "    background-color: var(--disabled-bg-color);\n",
              "    fill: var(--disabled-fill-color);\n",
              "    box-shadow: none;\n",
              "  }\n",
              "\n",
              "  .colab-df-spinner {\n",
              "    border: 2px solid var(--fill-color);\n",
              "    border-color: transparent;\n",
              "    border-bottom-color: var(--fill-color);\n",
              "    animation:\n",
              "      spin 1s steps(1) infinite;\n",
              "  }\n",
              "\n",
              "  @keyframes spin {\n",
              "    0% {\n",
              "      border-color: transparent;\n",
              "      border-bottom-color: var(--fill-color);\n",
              "      border-left-color: var(--fill-color);\n",
              "    }\n",
              "    20% {\n",
              "      border-color: transparent;\n",
              "      border-left-color: var(--fill-color);\n",
              "      border-top-color: var(--fill-color);\n",
              "    }\n",
              "    30% {\n",
              "      border-color: transparent;\n",
              "      border-left-color: var(--fill-color);\n",
              "      border-top-color: var(--fill-color);\n",
              "      border-right-color: var(--fill-color);\n",
              "    }\n",
              "    40% {\n",
              "      border-color: transparent;\n",
              "      border-right-color: var(--fill-color);\n",
              "      border-top-color: var(--fill-color);\n",
              "    }\n",
              "    60% {\n",
              "      border-color: transparent;\n",
              "      border-right-color: var(--fill-color);\n",
              "    }\n",
              "    80% {\n",
              "      border-color: transparent;\n",
              "      border-right-color: var(--fill-color);\n",
              "      border-bottom-color: var(--fill-color);\n",
              "    }\n",
              "    90% {\n",
              "      border-color: transparent;\n",
              "      border-bottom-color: var(--fill-color);\n",
              "    }\n",
              "  }\n",
              "</style>\n",
              "\n",
              "  <script>\n",
              "    async function quickchart(key) {\n",
              "      const quickchartButtonEl =\n",
              "        document.querySelector('#' + key + ' button');\n",
              "      quickchartButtonEl.disabled = true;  // To prevent multiple clicks.\n",
              "      quickchartButtonEl.classList.add('colab-df-spinner');\n",
              "      try {\n",
              "        const charts = await google.colab.kernel.invokeFunction(\n",
              "            'suggestCharts', [key], {});\n",
              "      } catch (error) {\n",
              "        console.error('Error during call to suggestCharts:', error);\n",
              "      }\n",
              "      quickchartButtonEl.classList.remove('colab-df-spinner');\n",
              "      quickchartButtonEl.classList.add('colab-df-quickchart-complete');\n",
              "    }\n",
              "    (() => {\n",
              "      let quickchartButtonEl =\n",
              "        document.querySelector('#df-27b2e134-aebe-4657-8588-9cdc9d8aec2b button');\n",
              "      quickchartButtonEl.style.display =\n",
              "        google.colab.kernel.accessAllowed ? 'block' : 'none';\n",
              "    })();\n",
              "  </script>\n",
              "</div>\n",
              "\n",
              "    </div>\n",
              "  </div>\n"
            ],
            "application/vnd.google.colaboratory.intrinsic+json": {
              "type": "dataframe",
              "variable_name": "reviews"
            }
          },
          "metadata": {},
          "execution_count": 5
        }
      ]
    },
    {
      "cell_type": "markdown",
      "source": [
        "# Ejercicios\n",
        "\n",
        "1.   Selecciona la columna **description** de reviews y asigna el resultado a la variable **desc**:\n",
        "\n",
        "\n"
      ],
      "metadata": {
        "id": "21qPVlzRjcOO"
      }
    },
    {
      "cell_type": "code",
      "source": [
        "# Seleccionar la columna description\n",
        "desc = review['description']\n",
        "desc\n"
      ],
      "metadata": {
        "id": "i__3LT2djY-r",
        "outputId": "8b871e85-7ec3-4eb7-df97-06ea691c2203",
        "colab": {
          "base_uri": "https://localhost:8080/",
          "height": 176
        }
      },
      "execution_count": 6,
      "outputs": [
        {
          "output_type": "error",
          "ename": "NameError",
          "evalue": "name 'review' is not defined",
          "traceback": [
            "\u001b[0;31m---------------------------------------------------------------------------\u001b[0m",
            "\u001b[0;31mNameError\u001b[0m                                 Traceback (most recent call last)",
            "\u001b[0;32m<ipython-input-6-b54884f08c2a>\u001b[0m in \u001b[0;36m<cell line: 2>\u001b[0;34m()\u001b[0m\n\u001b[1;32m      1\u001b[0m \u001b[0;31m# Seleccionar la columna description\u001b[0m\u001b[0;34m\u001b[0m\u001b[0;34m\u001b[0m\u001b[0m\n\u001b[0;32m----> 2\u001b[0;31m \u001b[0mdesc\u001b[0m \u001b[0;34m=\u001b[0m \u001b[0mreview\u001b[0m\u001b[0;34m[\u001b[0m\u001b[0;34m'description'\u001b[0m\u001b[0;34m]\u001b[0m\u001b[0;34m\u001b[0m\u001b[0;34m\u001b[0m\u001b[0m\n\u001b[0m\u001b[1;32m      3\u001b[0m \u001b[0mdesc\u001b[0m\u001b[0;34m\u001b[0m\u001b[0;34m\u001b[0m\u001b[0m\n",
            "\u001b[0;31mNameError\u001b[0m: name 'review' is not defined"
          ]
        }
      ]
    },
    {
      "cell_type": "markdown",
      "source": [
        "2. Selecciona el **primer valor** de la columna description de reviews y asígnalo a la variable **first_description**."
      ],
      "metadata": {
        "id": "sDc4TN5okEDO"
      }
    },
    {
      "cell_type": "code",
      "source": [
        "# Respuesta\n",
        "first_description =\n",
        "first_description"
      ],
      "metadata": {
        "id": "60WWR0eDkMzP"
      },
      "execution_count": null,
      "outputs": []
    },
    {
      "cell_type": "markdown",
      "source": [
        "3. Selecciona la **primera fila** de datos (el primer registro) de reviews y asígnala a la variable **first_row**.\n",
        "\n",
        "\n",
        "\n",
        "\n",
        "\n",
        "\n"
      ],
      "metadata": {
        "id": "jE9OM8P8ki1Q"
      }
    },
    {
      "cell_type": "code",
      "source": [
        "# Respuesta\n",
        "first_row =\n",
        "first_row"
      ],
      "metadata": {
        "id": "do7JwenBxW41"
      },
      "execution_count": null,
      "outputs": []
    },
    {
      "cell_type": "markdown",
      "source": [
        "4. Selecciona **los primeros 10 valores de la columna description** en reviews y asigna el resultado a la variable **first_descriptions**.\n",
        "\n",
        "*Sugerencia*: formatea tu salida como una Series de pandas."
      ],
      "metadata": {
        "id": "YIBHrPwXx1Ps"
      }
    },
    {
      "cell_type": "code",
      "source": [
        "# Respuesta\n",
        "first_descriptions =\n",
        "first_descriptions"
      ],
      "metadata": {
        "id": "N6c7_ESFx3SP"
      },
      "execution_count": null,
      "outputs": []
    },
    {
      "cell_type": "markdown",
      "source": [
        "5.\n",
        "Selecciona los registros con las **etiquetas de índice 1, 2, 3, 5, y 8**, asignando el resultado a la variable **sample_reviews**.\n",
        "\n",
        "En otras palabras, genera el siguiente DataFrame:\n",
        "\n",
        "![Captura desde 2024-10-03 11-56-03.png](data:image/png;base64,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)"
      ],
      "metadata": {
        "id": "EJG3Z9vCzniL"
      }
    },
    {
      "cell_type": "code",
      "source": [
        "# Respuesta\n",
        "\n",
        "sample_reviews =\n",
        "sample_reviews"
      ],
      "metadata": {
        "id": "JnpyZJCh19zm"
      },
      "execution_count": null,
      "outputs": []
    },
    {
      "cell_type": "markdown",
      "source": [
        "6. Crea una variable **df** que contenga las **columnas country, province, region_1 y region_2** de los registros con las etiquetas de í**ndice 0, 1, 10 y 100**. En otras palabras, genera el siguiente DataFrame:"
      ],
      "metadata": {
        "id": "4TYn5hec2zGq"
      }
    },
    {
      "cell_type": "code",
      "source": [
        "# Respuesta\n",
        "\n",
        "\n",
        "df =\n",
        "df"
      ],
      "metadata": {
        "id": "HGNksVFc6lOW"
      },
      "execution_count": null,
      "outputs": []
    },
    {
      "cell_type": "markdown",
      "source": [
        "7. Crea una variable **df** que contenga las columnas **country y variety** de los primeros 100 registros.\n",
        "\n",
        "*Sugerencia*: puedes usar loc o iloc. Al trabajar en la respuesta de esta pregunta y varias de las siguientes, ten en cuenta el siguiente \"detallito\" descrito en el tutorial:\n",
        "\n",
        "iloc utiliza el esquema de indexación de la biblioteca estándar de Python, donde el primer elemento del rango está incluido y el último excluido. Por otro lado, loc indexa de manera inclusiva.\n",
        "\n",
        "Esto puede ser especialmente confuso cuando el índice del DataFrame es una lista numérica simple, es decir, 0, ...,, 1000. En este caso, df.iloc[0:1000] devolverá 1000 entradas, mientras que df.loc[0:1000] devolverá 1001 de ellas. Para obtener 1000 elementos usando loc, necesitarás ir uno menos y solicitar df.iloc[0:999]."
      ],
      "metadata": {
        "id": "YT0-Lq4Q8xa7"
      }
    },
    {
      "cell_type": "code",
      "source": [
        "# Respuesta\n",
        "\n",
        "df =\n",
        "df"
      ],
      "metadata": {
        "id": "P8sd8IfN84CB"
      },
      "execution_count": null,
      "outputs": []
    },
    {
      "cell_type": "markdown",
      "source": [
        "8. Crea un DataFrame llamado **italian_wines** que contenga las reseñas de vinos elaborados en Italia.\n",
        "\n",
        "*Sugerencia*: ¿A qué es igual reviews.country?"
      ],
      "metadata": {
        "id": "o9SQ0rFd83YR"
      }
    },
    {
      "cell_type": "code",
      "source": [
        "italian_wines =\n",
        "italian_wines"
      ],
      "metadata": {
        "id": "yUqnuPzs9hBv"
      },
      "execution_count": null,
      "outputs": []
    },
    {
      "cell_type": "markdown",
      "source": [
        "9. Crea un DataFrame llamado **top_oceania_wines** que contenga todas las reseñas con **al menos 95 puntos** (de un total de 100) para vinos de Australia o Nueva Zelanda."
      ],
      "metadata": {
        "id": "MibpPVbc9l52"
      }
    },
    {
      "cell_type": "code",
      "source": [
        "# Respuesta\n",
        "top_oceania_wines =\n",
        "top_oceania_wines"
      ],
      "metadata": {
        "id": "AuvvmyFO9lWf"
      },
      "execution_count": null,
      "outputs": []
    }
  ]
}